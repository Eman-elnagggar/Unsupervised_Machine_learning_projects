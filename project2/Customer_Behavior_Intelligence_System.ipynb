{
  "nbformat": 4,
  "nbformat_minor": 0,
  "metadata": {
    "colab": {
      "provenance": []
    },
    "kernelspec": {
      "name": "python3",
      "display_name": "Python 3"
    },
    "language_info": {
      "name": "python"
    }
  },
  "cells": [
    {
      "cell_type": "code",
      "execution_count": 180,
      "metadata": {
        "id": "Mo9MQTj5COxN"
      },
      "outputs": [],
      "source": [
        "import pandas as pd\n",
        "import matplotlib.pyplot as plt\n",
        "import seaborn as sns"
      ]
    },
    {
      "cell_type": "code",
      "source": [
        "customer_behavior_df=pd.read_csv(\"/content/drive/MyDrive/DEPI/Machine Learning/Customer_Behavior_Intelligence_System/File 1.csv\")"
      ],
      "metadata": {
        "id": "4ggLEG6GDc8c"
      },
      "execution_count": 181,
      "outputs": []
    },
    {
      "cell_type": "markdown",
      "source": [
        "# Explore Data"
      ],
      "metadata": {
        "id": "-ZgO3WSgDpzv"
      }
    },
    {
      "cell_type": "code",
      "source": [
        "customer_behavior_df.head()"
      ],
      "metadata": {
        "colab": {
          "base_uri": "https://localhost:8080/",
          "height": 206
        },
        "id": "80OyGBVrDoov",
        "outputId": "a282c8e8-1ff7-471b-8ed5-5f9f68581287"
      },
      "execution_count": 182,
      "outputs": [
        {
          "output_type": "execute_result",
          "data": {
            "text/plain": [
              "   feature_0  feature_1  feature_2  feature_3  feature_4\n",
              "0  -1.248325  -1.137174   0.277968   0.702952   1.374166\n",
              "1  -1.241003   0.720804   0.944749  -1.672147  -0.695038\n",
              "2  -0.859728   0.955295   0.742522  -1.416056  -0.820891\n",
              "3  -0.546781   1.198398   0.489929  -1.692133  -0.573161\n",
              "4   1.091959   0.905112   0.064361   1.088081  -0.892193"
            ],
            "text/html": [
              "\n",
              "  <div id=\"df-664efb85-f29c-4d7e-9cef-307e95ca1499\" class=\"colab-df-container\">\n",
              "    <div>\n",
              "<style scoped>\n",
              "    .dataframe tbody tr th:only-of-type {\n",
              "        vertical-align: middle;\n",
              "    }\n",
              "\n",
              "    .dataframe tbody tr th {\n",
              "        vertical-align: top;\n",
              "    }\n",
              "\n",
              "    .dataframe thead th {\n",
              "        text-align: right;\n",
              "    }\n",
              "</style>\n",
              "<table border=\"1\" class=\"dataframe\">\n",
              "  <thead>\n",
              "    <tr style=\"text-align: right;\">\n",
              "      <th></th>\n",
              "      <th>feature_0</th>\n",
              "      <th>feature_1</th>\n",
              "      <th>feature_2</th>\n",
              "      <th>feature_3</th>\n",
              "      <th>feature_4</th>\n",
              "    </tr>\n",
              "  </thead>\n",
              "  <tbody>\n",
              "    <tr>\n",
              "      <th>0</th>\n",
              "      <td>-1.248325</td>\n",
              "      <td>-1.137174</td>\n",
              "      <td>0.277968</td>\n",
              "      <td>0.702952</td>\n",
              "      <td>1.374166</td>\n",
              "    </tr>\n",
              "    <tr>\n",
              "      <th>1</th>\n",
              "      <td>-1.241003</td>\n",
              "      <td>0.720804</td>\n",
              "      <td>0.944749</td>\n",
              "      <td>-1.672147</td>\n",
              "      <td>-0.695038</td>\n",
              "    </tr>\n",
              "    <tr>\n",
              "      <th>2</th>\n",
              "      <td>-0.859728</td>\n",
              "      <td>0.955295</td>\n",
              "      <td>0.742522</td>\n",
              "      <td>-1.416056</td>\n",
              "      <td>-0.820891</td>\n",
              "    </tr>\n",
              "    <tr>\n",
              "      <th>3</th>\n",
              "      <td>-0.546781</td>\n",
              "      <td>1.198398</td>\n",
              "      <td>0.489929</td>\n",
              "      <td>-1.692133</td>\n",
              "      <td>-0.573161</td>\n",
              "    </tr>\n",
              "    <tr>\n",
              "      <th>4</th>\n",
              "      <td>1.091959</td>\n",
              "      <td>0.905112</td>\n",
              "      <td>0.064361</td>\n",
              "      <td>1.088081</td>\n",
              "      <td>-0.892193</td>\n",
              "    </tr>\n",
              "  </tbody>\n",
              "</table>\n",
              "</div>\n",
              "    <div class=\"colab-df-buttons\">\n",
              "\n",
              "  <div class=\"colab-df-container\">\n",
              "    <button class=\"colab-df-convert\" onclick=\"convertToInteractive('df-664efb85-f29c-4d7e-9cef-307e95ca1499')\"\n",
              "            title=\"Convert this dataframe to an interactive table.\"\n",
              "            style=\"display:none;\">\n",
              "\n",
              "  <svg xmlns=\"http://www.w3.org/2000/svg\" height=\"24px\" viewBox=\"0 -960 960 960\">\n",
              "    <path d=\"M120-120v-720h720v720H120Zm60-500h600v-160H180v160Zm220 220h160v-160H400v160Zm0 220h160v-160H400v160ZM180-400h160v-160H180v160Zm440 0h160v-160H620v160ZM180-180h160v-160H180v160Zm440 0h160v-160H620v160Z\"/>\n",
              "  </svg>\n",
              "    </button>\n",
              "\n",
              "  <style>\n",
              "    .colab-df-container {\n",
              "      display:flex;\n",
              "      gap: 12px;\n",
              "    }\n",
              "\n",
              "    .colab-df-convert {\n",
              "      background-color: #E8F0FE;\n",
              "      border: none;\n",
              "      border-radius: 50%;\n",
              "      cursor: pointer;\n",
              "      display: none;\n",
              "      fill: #1967D2;\n",
              "      height: 32px;\n",
              "      padding: 0 0 0 0;\n",
              "      width: 32px;\n",
              "    }\n",
              "\n",
              "    .colab-df-convert:hover {\n",
              "      background-color: #E2EBFA;\n",
              "      box-shadow: 0px 1px 2px rgba(60, 64, 67, 0.3), 0px 1px 3px 1px rgba(60, 64, 67, 0.15);\n",
              "      fill: #174EA6;\n",
              "    }\n",
              "\n",
              "    .colab-df-buttons div {\n",
              "      margin-bottom: 4px;\n",
              "    }\n",
              "\n",
              "    [theme=dark] .colab-df-convert {\n",
              "      background-color: #3B4455;\n",
              "      fill: #D2E3FC;\n",
              "    }\n",
              "\n",
              "    [theme=dark] .colab-df-convert:hover {\n",
              "      background-color: #434B5C;\n",
              "      box-shadow: 0px 1px 3px 1px rgba(0, 0, 0, 0.15);\n",
              "      filter: drop-shadow(0px 1px 2px rgba(0, 0, 0, 0.3));\n",
              "      fill: #FFFFFF;\n",
              "    }\n",
              "  </style>\n",
              "\n",
              "    <script>\n",
              "      const buttonEl =\n",
              "        document.querySelector('#df-664efb85-f29c-4d7e-9cef-307e95ca1499 button.colab-df-convert');\n",
              "      buttonEl.style.display =\n",
              "        google.colab.kernel.accessAllowed ? 'block' : 'none';\n",
              "\n",
              "      async function convertToInteractive(key) {\n",
              "        const element = document.querySelector('#df-664efb85-f29c-4d7e-9cef-307e95ca1499');\n",
              "        const dataTable =\n",
              "          await google.colab.kernel.invokeFunction('convertToInteractive',\n",
              "                                                    [key], {});\n",
              "        if (!dataTable) return;\n",
              "\n",
              "        const docLinkHtml = 'Like what you see? Visit the ' +\n",
              "          '<a target=\"_blank\" href=https://colab.research.google.com/notebooks/data_table.ipynb>data table notebook</a>'\n",
              "          + ' to learn more about interactive tables.';\n",
              "        element.innerHTML = '';\n",
              "        dataTable['output_type'] = 'display_data';\n",
              "        await google.colab.output.renderOutput(dataTable, element);\n",
              "        const docLink = document.createElement('div');\n",
              "        docLink.innerHTML = docLinkHtml;\n",
              "        element.appendChild(docLink);\n",
              "      }\n",
              "    </script>\n",
              "  </div>\n",
              "\n",
              "\n",
              "    <div id=\"df-fc136347-e23f-482e-b8a4-bd75d6173d40\">\n",
              "      <button class=\"colab-df-quickchart\" onclick=\"quickchart('df-fc136347-e23f-482e-b8a4-bd75d6173d40')\"\n",
              "                title=\"Suggest charts\"\n",
              "                style=\"display:none;\">\n",
              "\n",
              "<svg xmlns=\"http://www.w3.org/2000/svg\" height=\"24px\"viewBox=\"0 0 24 24\"\n",
              "     width=\"24px\">\n",
              "    <g>\n",
              "        <path d=\"M19 3H5c-1.1 0-2 .9-2 2v14c0 1.1.9 2 2 2h14c1.1 0 2-.9 2-2V5c0-1.1-.9-2-2-2zM9 17H7v-7h2v7zm4 0h-2V7h2v10zm4 0h-2v-4h2v4z\"/>\n",
              "    </g>\n",
              "</svg>\n",
              "      </button>\n",
              "\n",
              "<style>\n",
              "  .colab-df-quickchart {\n",
              "      --bg-color: #E8F0FE;\n",
              "      --fill-color: #1967D2;\n",
              "      --hover-bg-color: #E2EBFA;\n",
              "      --hover-fill-color: #174EA6;\n",
              "      --disabled-fill-color: #AAA;\n",
              "      --disabled-bg-color: #DDD;\n",
              "  }\n",
              "\n",
              "  [theme=dark] .colab-df-quickchart {\n",
              "      --bg-color: #3B4455;\n",
              "      --fill-color: #D2E3FC;\n",
              "      --hover-bg-color: #434B5C;\n",
              "      --hover-fill-color: #FFFFFF;\n",
              "      --disabled-bg-color: #3B4455;\n",
              "      --disabled-fill-color: #666;\n",
              "  }\n",
              "\n",
              "  .colab-df-quickchart {\n",
              "    background-color: var(--bg-color);\n",
              "    border: none;\n",
              "    border-radius: 50%;\n",
              "    cursor: pointer;\n",
              "    display: none;\n",
              "    fill: var(--fill-color);\n",
              "    height: 32px;\n",
              "    padding: 0;\n",
              "    width: 32px;\n",
              "  }\n",
              "\n",
              "  .colab-df-quickchart:hover {\n",
              "    background-color: var(--hover-bg-color);\n",
              "    box-shadow: 0 1px 2px rgba(60, 64, 67, 0.3), 0 1px 3px 1px rgba(60, 64, 67, 0.15);\n",
              "    fill: var(--button-hover-fill-color);\n",
              "  }\n",
              "\n",
              "  .colab-df-quickchart-complete:disabled,\n",
              "  .colab-df-quickchart-complete:disabled:hover {\n",
              "    background-color: var(--disabled-bg-color);\n",
              "    fill: var(--disabled-fill-color);\n",
              "    box-shadow: none;\n",
              "  }\n",
              "\n",
              "  .colab-df-spinner {\n",
              "    border: 2px solid var(--fill-color);\n",
              "    border-color: transparent;\n",
              "    border-bottom-color: var(--fill-color);\n",
              "    animation:\n",
              "      spin 1s steps(1) infinite;\n",
              "  }\n",
              "\n",
              "  @keyframes spin {\n",
              "    0% {\n",
              "      border-color: transparent;\n",
              "      border-bottom-color: var(--fill-color);\n",
              "      border-left-color: var(--fill-color);\n",
              "    }\n",
              "    20% {\n",
              "      border-color: transparent;\n",
              "      border-left-color: var(--fill-color);\n",
              "      border-top-color: var(--fill-color);\n",
              "    }\n",
              "    30% {\n",
              "      border-color: transparent;\n",
              "      border-left-color: var(--fill-color);\n",
              "      border-top-color: var(--fill-color);\n",
              "      border-right-color: var(--fill-color);\n",
              "    }\n",
              "    40% {\n",
              "      border-color: transparent;\n",
              "      border-right-color: var(--fill-color);\n",
              "      border-top-color: var(--fill-color);\n",
              "    }\n",
              "    60% {\n",
              "      border-color: transparent;\n",
              "      border-right-color: var(--fill-color);\n",
              "    }\n",
              "    80% {\n",
              "      border-color: transparent;\n",
              "      border-right-color: var(--fill-color);\n",
              "      border-bottom-color: var(--fill-color);\n",
              "    }\n",
              "    90% {\n",
              "      border-color: transparent;\n",
              "      border-bottom-color: var(--fill-color);\n",
              "    }\n",
              "  }\n",
              "</style>\n",
              "\n",
              "      <script>\n",
              "        async function quickchart(key) {\n",
              "          const quickchartButtonEl =\n",
              "            document.querySelector('#' + key + ' button');\n",
              "          quickchartButtonEl.disabled = true;  // To prevent multiple clicks.\n",
              "          quickchartButtonEl.classList.add('colab-df-spinner');\n",
              "          try {\n",
              "            const charts = await google.colab.kernel.invokeFunction(\n",
              "                'suggestCharts', [key], {});\n",
              "          } catch (error) {\n",
              "            console.error('Error during call to suggestCharts:', error);\n",
              "          }\n",
              "          quickchartButtonEl.classList.remove('colab-df-spinner');\n",
              "          quickchartButtonEl.classList.add('colab-df-quickchart-complete');\n",
              "        }\n",
              "        (() => {\n",
              "          let quickchartButtonEl =\n",
              "            document.querySelector('#df-fc136347-e23f-482e-b8a4-bd75d6173d40 button');\n",
              "          quickchartButtonEl.style.display =\n",
              "            google.colab.kernel.accessAllowed ? 'block' : 'none';\n",
              "        })();\n",
              "      </script>\n",
              "    </div>\n",
              "\n",
              "    </div>\n",
              "  </div>\n"
            ],
            "application/vnd.google.colaboratory.intrinsic+json": {
              "type": "dataframe",
              "variable_name": "customer_behavior_df",
              "summary": "{\n  \"name\": \"customer_behavior_df\",\n  \"rows\": 500,\n  \"fields\": [\n    {\n      \"column\": \"feature_0\",\n      \"properties\": {\n        \"dtype\": \"number\",\n        \"std\": 1.0010015025043828,\n        \"min\": -2.2684038644004354,\n        \"max\": 2.16104653153788,\n        \"num_unique_values\": 500,\n        \"samples\": [\n          -0.1443930958827435,\n          -1.9861368946488889,\n          2.084155200233541\n        ],\n        \"semantic_type\": \"\",\n        \"description\": \"\"\n      }\n    },\n    {\n      \"column\": \"feature_1\",\n      \"properties\": {\n        \"dtype\": \"number\",\n        \"std\": 1.001001502504383,\n        \"min\": -1.5822195108222432,\n        \"max\": 1.2601911440139977,\n        \"num_unique_values\": 500,\n        \"samples\": [\n          -0.6726514926034354,\n          0.9018692935813182,\n          1.0026560986045785\n        ],\n        \"semantic_type\": \"\",\n        \"description\": \"\"\n      }\n    },\n    {\n      \"column\": \"feature_2\",\n      \"properties\": {\n        \"dtype\": \"number\",\n        \"std\": 1.0010015025043828,\n        \"min\": -2.404161234516124,\n        \"max\": 1.7839352831238098,\n        \"num_unique_values\": 500,\n        \"samples\": [\n          -1.48734995636315,\n          0.5756847491687118,\n          -0.4664819403697485\n        ],\n        \"semantic_type\": \"\",\n        \"description\": \"\"\n      }\n    },\n    {\n      \"column\": \"feature_3\",\n      \"properties\": {\n        \"dtype\": \"number\",\n        \"std\": 1.0010015025043835,\n        \"min\": -2.37045736267921,\n        \"max\": 1.947826209880673,\n        \"num_unique_values\": 500,\n        \"samples\": [\n          -0.7733808553084531,\n          -1.807167148529694,\n          0.9927616194148045\n        ],\n        \"semantic_type\": \"\",\n        \"description\": \"\"\n      }\n    },\n    {\n      \"column\": \"feature_4\",\n      \"properties\": {\n        \"dtype\": \"number\",\n        \"std\": 1.0010015025043828,\n        \"min\": -1.2695991035593417,\n        \"max\": 2.191764470157293,\n        \"num_unique_values\": 500,\n        \"samples\": [\n          -0.201526639613861,\n          -0.7039116507113121,\n          -1.0001672871451617\n        ],\n        \"semantic_type\": \"\",\n        \"description\": \"\"\n      }\n    }\n  ]\n}"
            }
          },
          "metadata": {},
          "execution_count": 182
        }
      ]
    },
    {
      "cell_type": "code",
      "source": [
        "customer_behavior_df.tail()"
      ],
      "metadata": {
        "colab": {
          "base_uri": "https://localhost:8080/",
          "height": 206
        },
        "id": "FXOmojJXDstj",
        "outputId": "69a14822-70d6-40ba-d995-5fb11a9889a7"
      },
      "execution_count": 183,
      "outputs": [
        {
          "output_type": "execute_result",
          "data": {
            "text/plain": [
              "     feature_0  feature_1  feature_2  feature_3  feature_4\n",
              "495  -1.717106   0.772110   0.117375  -1.134905  -0.795564\n",
              "496  -0.775524   0.864913   0.670800  -1.384047  -0.524277\n",
              "497  -1.168657   0.963444   0.422672  -1.461787  -0.579008\n",
              "498  -0.264773  -1.262000   1.305169   0.567142   1.698487\n",
              "499   0.270025  -0.606921  -1.927713   0.059962  -0.005164"
            ],
            "text/html": [
              "\n",
              "  <div id=\"df-7740ddda-a133-468d-ab0e-5a641bbc9627\" class=\"colab-df-container\">\n",
              "    <div>\n",
              "<style scoped>\n",
              "    .dataframe tbody tr th:only-of-type {\n",
              "        vertical-align: middle;\n",
              "    }\n",
              "\n",
              "    .dataframe tbody tr th {\n",
              "        vertical-align: top;\n",
              "    }\n",
              "\n",
              "    .dataframe thead th {\n",
              "        text-align: right;\n",
              "    }\n",
              "</style>\n",
              "<table border=\"1\" class=\"dataframe\">\n",
              "  <thead>\n",
              "    <tr style=\"text-align: right;\">\n",
              "      <th></th>\n",
              "      <th>feature_0</th>\n",
              "      <th>feature_1</th>\n",
              "      <th>feature_2</th>\n",
              "      <th>feature_3</th>\n",
              "      <th>feature_4</th>\n",
              "    </tr>\n",
              "  </thead>\n",
              "  <tbody>\n",
              "    <tr>\n",
              "      <th>495</th>\n",
              "      <td>-1.717106</td>\n",
              "      <td>0.772110</td>\n",
              "      <td>0.117375</td>\n",
              "      <td>-1.134905</td>\n",
              "      <td>-0.795564</td>\n",
              "    </tr>\n",
              "    <tr>\n",
              "      <th>496</th>\n",
              "      <td>-0.775524</td>\n",
              "      <td>0.864913</td>\n",
              "      <td>0.670800</td>\n",
              "      <td>-1.384047</td>\n",
              "      <td>-0.524277</td>\n",
              "    </tr>\n",
              "    <tr>\n",
              "      <th>497</th>\n",
              "      <td>-1.168657</td>\n",
              "      <td>0.963444</td>\n",
              "      <td>0.422672</td>\n",
              "      <td>-1.461787</td>\n",
              "      <td>-0.579008</td>\n",
              "    </tr>\n",
              "    <tr>\n",
              "      <th>498</th>\n",
              "      <td>-0.264773</td>\n",
              "      <td>-1.262000</td>\n",
              "      <td>1.305169</td>\n",
              "      <td>0.567142</td>\n",
              "      <td>1.698487</td>\n",
              "    </tr>\n",
              "    <tr>\n",
              "      <th>499</th>\n",
              "      <td>0.270025</td>\n",
              "      <td>-0.606921</td>\n",
              "      <td>-1.927713</td>\n",
              "      <td>0.059962</td>\n",
              "      <td>-0.005164</td>\n",
              "    </tr>\n",
              "  </tbody>\n",
              "</table>\n",
              "</div>\n",
              "    <div class=\"colab-df-buttons\">\n",
              "\n",
              "  <div class=\"colab-df-container\">\n",
              "    <button class=\"colab-df-convert\" onclick=\"convertToInteractive('df-7740ddda-a133-468d-ab0e-5a641bbc9627')\"\n",
              "            title=\"Convert this dataframe to an interactive table.\"\n",
              "            style=\"display:none;\">\n",
              "\n",
              "  <svg xmlns=\"http://www.w3.org/2000/svg\" height=\"24px\" viewBox=\"0 -960 960 960\">\n",
              "    <path d=\"M120-120v-720h720v720H120Zm60-500h600v-160H180v160Zm220 220h160v-160H400v160Zm0 220h160v-160H400v160ZM180-400h160v-160H180v160Zm440 0h160v-160H620v160ZM180-180h160v-160H180v160Zm440 0h160v-160H620v160Z\"/>\n",
              "  </svg>\n",
              "    </button>\n",
              "\n",
              "  <style>\n",
              "    .colab-df-container {\n",
              "      display:flex;\n",
              "      gap: 12px;\n",
              "    }\n",
              "\n",
              "    .colab-df-convert {\n",
              "      background-color: #E8F0FE;\n",
              "      border: none;\n",
              "      border-radius: 50%;\n",
              "      cursor: pointer;\n",
              "      display: none;\n",
              "      fill: #1967D2;\n",
              "      height: 32px;\n",
              "      padding: 0 0 0 0;\n",
              "      width: 32px;\n",
              "    }\n",
              "\n",
              "    .colab-df-convert:hover {\n",
              "      background-color: #E2EBFA;\n",
              "      box-shadow: 0px 1px 2px rgba(60, 64, 67, 0.3), 0px 1px 3px 1px rgba(60, 64, 67, 0.15);\n",
              "      fill: #174EA6;\n",
              "    }\n",
              "\n",
              "    .colab-df-buttons div {\n",
              "      margin-bottom: 4px;\n",
              "    }\n",
              "\n",
              "    [theme=dark] .colab-df-convert {\n",
              "      background-color: #3B4455;\n",
              "      fill: #D2E3FC;\n",
              "    }\n",
              "\n",
              "    [theme=dark] .colab-df-convert:hover {\n",
              "      background-color: #434B5C;\n",
              "      box-shadow: 0px 1px 3px 1px rgba(0, 0, 0, 0.15);\n",
              "      filter: drop-shadow(0px 1px 2px rgba(0, 0, 0, 0.3));\n",
              "      fill: #FFFFFF;\n",
              "    }\n",
              "  </style>\n",
              "\n",
              "    <script>\n",
              "      const buttonEl =\n",
              "        document.querySelector('#df-7740ddda-a133-468d-ab0e-5a641bbc9627 button.colab-df-convert');\n",
              "      buttonEl.style.display =\n",
              "        google.colab.kernel.accessAllowed ? 'block' : 'none';\n",
              "\n",
              "      async function convertToInteractive(key) {\n",
              "        const element = document.querySelector('#df-7740ddda-a133-468d-ab0e-5a641bbc9627');\n",
              "        const dataTable =\n",
              "          await google.colab.kernel.invokeFunction('convertToInteractive',\n",
              "                                                    [key], {});\n",
              "        if (!dataTable) return;\n",
              "\n",
              "        const docLinkHtml = 'Like what you see? Visit the ' +\n",
              "          '<a target=\"_blank\" href=https://colab.research.google.com/notebooks/data_table.ipynb>data table notebook</a>'\n",
              "          + ' to learn more about interactive tables.';\n",
              "        element.innerHTML = '';\n",
              "        dataTable['output_type'] = 'display_data';\n",
              "        await google.colab.output.renderOutput(dataTable, element);\n",
              "        const docLink = document.createElement('div');\n",
              "        docLink.innerHTML = docLinkHtml;\n",
              "        element.appendChild(docLink);\n",
              "      }\n",
              "    </script>\n",
              "  </div>\n",
              "\n",
              "\n",
              "    <div id=\"df-827d5ec1-9170-4094-98fe-5e26801934a9\">\n",
              "      <button class=\"colab-df-quickchart\" onclick=\"quickchart('df-827d5ec1-9170-4094-98fe-5e26801934a9')\"\n",
              "                title=\"Suggest charts\"\n",
              "                style=\"display:none;\">\n",
              "\n",
              "<svg xmlns=\"http://www.w3.org/2000/svg\" height=\"24px\"viewBox=\"0 0 24 24\"\n",
              "     width=\"24px\">\n",
              "    <g>\n",
              "        <path d=\"M19 3H5c-1.1 0-2 .9-2 2v14c0 1.1.9 2 2 2h14c1.1 0 2-.9 2-2V5c0-1.1-.9-2-2-2zM9 17H7v-7h2v7zm4 0h-2V7h2v10zm4 0h-2v-4h2v4z\"/>\n",
              "    </g>\n",
              "</svg>\n",
              "      </button>\n",
              "\n",
              "<style>\n",
              "  .colab-df-quickchart {\n",
              "      --bg-color: #E8F0FE;\n",
              "      --fill-color: #1967D2;\n",
              "      --hover-bg-color: #E2EBFA;\n",
              "      --hover-fill-color: #174EA6;\n",
              "      --disabled-fill-color: #AAA;\n",
              "      --disabled-bg-color: #DDD;\n",
              "  }\n",
              "\n",
              "  [theme=dark] .colab-df-quickchart {\n",
              "      --bg-color: #3B4455;\n",
              "      --fill-color: #D2E3FC;\n",
              "      --hover-bg-color: #434B5C;\n",
              "      --hover-fill-color: #FFFFFF;\n",
              "      --disabled-bg-color: #3B4455;\n",
              "      --disabled-fill-color: #666;\n",
              "  }\n",
              "\n",
              "  .colab-df-quickchart {\n",
              "    background-color: var(--bg-color);\n",
              "    border: none;\n",
              "    border-radius: 50%;\n",
              "    cursor: pointer;\n",
              "    display: none;\n",
              "    fill: var(--fill-color);\n",
              "    height: 32px;\n",
              "    padding: 0;\n",
              "    width: 32px;\n",
              "  }\n",
              "\n",
              "  .colab-df-quickchart:hover {\n",
              "    background-color: var(--hover-bg-color);\n",
              "    box-shadow: 0 1px 2px rgba(60, 64, 67, 0.3), 0 1px 3px 1px rgba(60, 64, 67, 0.15);\n",
              "    fill: var(--button-hover-fill-color);\n",
              "  }\n",
              "\n",
              "  .colab-df-quickchart-complete:disabled,\n",
              "  .colab-df-quickchart-complete:disabled:hover {\n",
              "    background-color: var(--disabled-bg-color);\n",
              "    fill: var(--disabled-fill-color);\n",
              "    box-shadow: none;\n",
              "  }\n",
              "\n",
              "  .colab-df-spinner {\n",
              "    border: 2px solid var(--fill-color);\n",
              "    border-color: transparent;\n",
              "    border-bottom-color: var(--fill-color);\n",
              "    animation:\n",
              "      spin 1s steps(1) infinite;\n",
              "  }\n",
              "\n",
              "  @keyframes spin {\n",
              "    0% {\n",
              "      border-color: transparent;\n",
              "      border-bottom-color: var(--fill-color);\n",
              "      border-left-color: var(--fill-color);\n",
              "    }\n",
              "    20% {\n",
              "      border-color: transparent;\n",
              "      border-left-color: var(--fill-color);\n",
              "      border-top-color: var(--fill-color);\n",
              "    }\n",
              "    30% {\n",
              "      border-color: transparent;\n",
              "      border-left-color: var(--fill-color);\n",
              "      border-top-color: var(--fill-color);\n",
              "      border-right-color: var(--fill-color);\n",
              "    }\n",
              "    40% {\n",
              "      border-color: transparent;\n",
              "      border-right-color: var(--fill-color);\n",
              "      border-top-color: var(--fill-color);\n",
              "    }\n",
              "    60% {\n",
              "      border-color: transparent;\n",
              "      border-right-color: var(--fill-color);\n",
              "    }\n",
              "    80% {\n",
              "      border-color: transparent;\n",
              "      border-right-color: var(--fill-color);\n",
              "      border-bottom-color: var(--fill-color);\n",
              "    }\n",
              "    90% {\n",
              "      border-color: transparent;\n",
              "      border-bottom-color: var(--fill-color);\n",
              "    }\n",
              "  }\n",
              "</style>\n",
              "\n",
              "      <script>\n",
              "        async function quickchart(key) {\n",
              "          const quickchartButtonEl =\n",
              "            document.querySelector('#' + key + ' button');\n",
              "          quickchartButtonEl.disabled = true;  // To prevent multiple clicks.\n",
              "          quickchartButtonEl.classList.add('colab-df-spinner');\n",
              "          try {\n",
              "            const charts = await google.colab.kernel.invokeFunction(\n",
              "                'suggestCharts', [key], {});\n",
              "          } catch (error) {\n",
              "            console.error('Error during call to suggestCharts:', error);\n",
              "          }\n",
              "          quickchartButtonEl.classList.remove('colab-df-spinner');\n",
              "          quickchartButtonEl.classList.add('colab-df-quickchart-complete');\n",
              "        }\n",
              "        (() => {\n",
              "          let quickchartButtonEl =\n",
              "            document.querySelector('#df-827d5ec1-9170-4094-98fe-5e26801934a9 button');\n",
              "          quickchartButtonEl.style.display =\n",
              "            google.colab.kernel.accessAllowed ? 'block' : 'none';\n",
              "        })();\n",
              "      </script>\n",
              "    </div>\n",
              "\n",
              "    </div>\n",
              "  </div>\n"
            ],
            "application/vnd.google.colaboratory.intrinsic+json": {
              "type": "dataframe",
              "summary": "{\n  \"name\": \"customer_behavior_df\",\n  \"rows\": 5,\n  \"fields\": [\n    {\n      \"column\": \"feature_0\",\n      \"properties\": {\n        \"dtype\": \"number\",\n        \"std\": 0.7722288215363187,\n        \"min\": -1.7171061250822048,\n        \"max\": 0.2700245421472769,\n        \"num_unique_values\": 5,\n        \"samples\": [\n          -0.7755243854137283,\n          0.2700245421472769,\n          -1.1686573859170553\n        ],\n        \"semantic_type\": \"\",\n        \"description\": \"\"\n      }\n    },\n    {\n      \"column\": \"feature_1\",\n      \"properties\": {\n        \"dtype\": \"number\",\n        \"std\": 1.0156792250514834,\n        \"min\": -1.261999812161192,\n        \"max\": 0.963444091162218,\n        \"num_unique_values\": 5,\n        \"samples\": [\n          0.8649131915826938,\n          -0.6069206748619624,\n          0.963444091162218\n        ],\n        \"semantic_type\": \"\",\n        \"description\": \"\"\n      }\n    },\n    {\n      \"column\": \"feature_2\",\n      \"properties\": {\n        \"dtype\": \"number\",\n        \"std\": 1.2240019696171662,\n        \"min\": -1.92771284609642,\n        \"max\": 1.305168741749502,\n        \"num_unique_values\": 5,\n        \"samples\": [\n          0.6708000326711975,\n          -1.92771284609642,\n          0.422671832993334\n        ],\n        \"semantic_type\": \"\",\n        \"description\": \"\"\n      }\n    },\n    {\n      \"column\": \"feature_3\",\n      \"properties\": {\n        \"dtype\": \"number\",\n        \"std\": 0.924160371142129,\n        \"min\": -1.4617870236509691,\n        \"max\": 0.5671424467297255,\n        \"num_unique_values\": 5,\n        \"samples\": [\n          -1.384046872998258,\n          0.0599620110012931,\n          -1.4617870236509691\n        ],\n        \"semantic_type\": \"\",\n        \"description\": \"\"\n      }\n    },\n    {\n      \"column\": \"feature_4\",\n      \"properties\": {\n        \"dtype\": \"number\",\n        \"std\": 1.0148243181568626,\n        \"min\": -0.7955635623040762,\n        \"max\": 1.6984866449137062,\n        \"num_unique_values\": 5,\n        \"samples\": [\n          -0.5242773329931721,\n          -0.0051644765511708,\n          -0.5790079178275168\n        ],\n        \"semantic_type\": \"\",\n        \"description\": \"\"\n      }\n    }\n  ]\n}"
            }
          },
          "metadata": {},
          "execution_count": 183
        }
      ]
    },
    {
      "cell_type": "code",
      "source": [
        "customer_behavior_df.info()"
      ],
      "metadata": {
        "colab": {
          "base_uri": "https://localhost:8080/"
        },
        "id": "7e9lOzGMENsx",
        "outputId": "4cb1556b-0ca5-4eb0-a95d-3e1b7d136b59"
      },
      "execution_count": 184,
      "outputs": [
        {
          "output_type": "stream",
          "name": "stdout",
          "text": [
            "<class 'pandas.core.frame.DataFrame'>\n",
            "RangeIndex: 500 entries, 0 to 499\n",
            "Data columns (total 5 columns):\n",
            " #   Column     Non-Null Count  Dtype  \n",
            "---  ------     --------------  -----  \n",
            " 0   feature_0  500 non-null    float64\n",
            " 1   feature_1  500 non-null    float64\n",
            " 2   feature_2  500 non-null    float64\n",
            " 3   feature_3  500 non-null    float64\n",
            " 4   feature_4  500 non-null    float64\n",
            "dtypes: float64(5)\n",
            "memory usage: 19.7 KB\n"
          ]
        }
      ]
    },
    {
      "cell_type": "code",
      "source": [
        "customer_behavior_df.isnull().sum()"
      ],
      "metadata": {
        "colab": {
          "base_uri": "https://localhost:8080/",
          "height": 241
        },
        "id": "tqg2bUTrEQOJ",
        "outputId": "d83c5a6f-1ac5-43b7-ea5e-bc282438839f"
      },
      "execution_count": 185,
      "outputs": [
        {
          "output_type": "execute_result",
          "data": {
            "text/plain": [
              "feature_0    0\n",
              "feature_1    0\n",
              "feature_2    0\n",
              "feature_3    0\n",
              "feature_4    0\n",
              "dtype: int64"
            ],
            "text/html": [
              "<div>\n",
              "<style scoped>\n",
              "    .dataframe tbody tr th:only-of-type {\n",
              "        vertical-align: middle;\n",
              "    }\n",
              "\n",
              "    .dataframe tbody tr th {\n",
              "        vertical-align: top;\n",
              "    }\n",
              "\n",
              "    .dataframe thead th {\n",
              "        text-align: right;\n",
              "    }\n",
              "</style>\n",
              "<table border=\"1\" class=\"dataframe\">\n",
              "  <thead>\n",
              "    <tr style=\"text-align: right;\">\n",
              "      <th></th>\n",
              "      <th>0</th>\n",
              "    </tr>\n",
              "  </thead>\n",
              "  <tbody>\n",
              "    <tr>\n",
              "      <th>feature_0</th>\n",
              "      <td>0</td>\n",
              "    </tr>\n",
              "    <tr>\n",
              "      <th>feature_1</th>\n",
              "      <td>0</td>\n",
              "    </tr>\n",
              "    <tr>\n",
              "      <th>feature_2</th>\n",
              "      <td>0</td>\n",
              "    </tr>\n",
              "    <tr>\n",
              "      <th>feature_3</th>\n",
              "      <td>0</td>\n",
              "    </tr>\n",
              "    <tr>\n",
              "      <th>feature_4</th>\n",
              "      <td>0</td>\n",
              "    </tr>\n",
              "  </tbody>\n",
              "</table>\n",
              "</div><br><label><b>dtype:</b> int64</label>"
            ]
          },
          "metadata": {},
          "execution_count": 185
        }
      ]
    },
    {
      "cell_type": "code",
      "source": [
        "customer_behavior_df.describe()"
      ],
      "metadata": {
        "colab": {
          "base_uri": "https://localhost:8080/",
          "height": 300
        },
        "id": "O_26naAJEJZW",
        "outputId": "2a2af4aa-844e-42de-cc62-b31fdb75ac35"
      },
      "execution_count": 186,
      "outputs": [
        {
          "output_type": "execute_result",
          "data": {
            "text/plain": [
              "          feature_0     feature_1     feature_2     feature_3     feature_4\n",
              "count  5.000000e+02  5.000000e+02  5.000000e+02  5.000000e+02  5.000000e+02\n",
              "mean  -2.344791e-16 -1.314504e-16  5.684342e-16 -1.882938e-16 -2.877698e-16\n",
              "std    1.001002e+00  1.001002e+00  1.001002e+00  1.001002e+00  1.001002e+00\n",
              "min   -2.268404e+00 -1.582220e+00 -2.404161e+00 -2.370457e+00 -1.269599e+00\n",
              "25%   -7.000235e-01 -9.278037e-01 -7.185726e-01 -8.836220e-01 -7.241618e-01\n",
              "50%   -1.225416e-01  1.318703e-01  2.734487e-01  2.918948e-01 -4.097401e-01\n",
              "75%    6.630546e-01  9.653978e-01  7.739601e-01  8.173842e-01  6.277492e-01\n",
              "max    2.161047e+00  1.260191e+00  1.783935e+00  1.947826e+00  2.191764e+00"
            ],
            "text/html": [
              "\n",
              "  <div id=\"df-e6f1849b-fec2-4010-b0c7-cb1fed290418\" class=\"colab-df-container\">\n",
              "    <div>\n",
              "<style scoped>\n",
              "    .dataframe tbody tr th:only-of-type {\n",
              "        vertical-align: middle;\n",
              "    }\n",
              "\n",
              "    .dataframe tbody tr th {\n",
              "        vertical-align: top;\n",
              "    }\n",
              "\n",
              "    .dataframe thead th {\n",
              "        text-align: right;\n",
              "    }\n",
              "</style>\n",
              "<table border=\"1\" class=\"dataframe\">\n",
              "  <thead>\n",
              "    <tr style=\"text-align: right;\">\n",
              "      <th></th>\n",
              "      <th>feature_0</th>\n",
              "      <th>feature_1</th>\n",
              "      <th>feature_2</th>\n",
              "      <th>feature_3</th>\n",
              "      <th>feature_4</th>\n",
              "    </tr>\n",
              "  </thead>\n",
              "  <tbody>\n",
              "    <tr>\n",
              "      <th>count</th>\n",
              "      <td>5.000000e+02</td>\n",
              "      <td>5.000000e+02</td>\n",
              "      <td>5.000000e+02</td>\n",
              "      <td>5.000000e+02</td>\n",
              "      <td>5.000000e+02</td>\n",
              "    </tr>\n",
              "    <tr>\n",
              "      <th>mean</th>\n",
              "      <td>-2.344791e-16</td>\n",
              "      <td>-1.314504e-16</td>\n",
              "      <td>5.684342e-16</td>\n",
              "      <td>-1.882938e-16</td>\n",
              "      <td>-2.877698e-16</td>\n",
              "    </tr>\n",
              "    <tr>\n",
              "      <th>std</th>\n",
              "      <td>1.001002e+00</td>\n",
              "      <td>1.001002e+00</td>\n",
              "      <td>1.001002e+00</td>\n",
              "      <td>1.001002e+00</td>\n",
              "      <td>1.001002e+00</td>\n",
              "    </tr>\n",
              "    <tr>\n",
              "      <th>min</th>\n",
              "      <td>-2.268404e+00</td>\n",
              "      <td>-1.582220e+00</td>\n",
              "      <td>-2.404161e+00</td>\n",
              "      <td>-2.370457e+00</td>\n",
              "      <td>-1.269599e+00</td>\n",
              "    </tr>\n",
              "    <tr>\n",
              "      <th>25%</th>\n",
              "      <td>-7.000235e-01</td>\n",
              "      <td>-9.278037e-01</td>\n",
              "      <td>-7.185726e-01</td>\n",
              "      <td>-8.836220e-01</td>\n",
              "      <td>-7.241618e-01</td>\n",
              "    </tr>\n",
              "    <tr>\n",
              "      <th>50%</th>\n",
              "      <td>-1.225416e-01</td>\n",
              "      <td>1.318703e-01</td>\n",
              "      <td>2.734487e-01</td>\n",
              "      <td>2.918948e-01</td>\n",
              "      <td>-4.097401e-01</td>\n",
              "    </tr>\n",
              "    <tr>\n",
              "      <th>75%</th>\n",
              "      <td>6.630546e-01</td>\n",
              "      <td>9.653978e-01</td>\n",
              "      <td>7.739601e-01</td>\n",
              "      <td>8.173842e-01</td>\n",
              "      <td>6.277492e-01</td>\n",
              "    </tr>\n",
              "    <tr>\n",
              "      <th>max</th>\n",
              "      <td>2.161047e+00</td>\n",
              "      <td>1.260191e+00</td>\n",
              "      <td>1.783935e+00</td>\n",
              "      <td>1.947826e+00</td>\n",
              "      <td>2.191764e+00</td>\n",
              "    </tr>\n",
              "  </tbody>\n",
              "</table>\n",
              "</div>\n",
              "    <div class=\"colab-df-buttons\">\n",
              "\n",
              "  <div class=\"colab-df-container\">\n",
              "    <button class=\"colab-df-convert\" onclick=\"convertToInteractive('df-e6f1849b-fec2-4010-b0c7-cb1fed290418')\"\n",
              "            title=\"Convert this dataframe to an interactive table.\"\n",
              "            style=\"display:none;\">\n",
              "\n",
              "  <svg xmlns=\"http://www.w3.org/2000/svg\" height=\"24px\" viewBox=\"0 -960 960 960\">\n",
              "    <path d=\"M120-120v-720h720v720H120Zm60-500h600v-160H180v160Zm220 220h160v-160H400v160Zm0 220h160v-160H400v160ZM180-400h160v-160H180v160Zm440 0h160v-160H620v160ZM180-180h160v-160H180v160Zm440 0h160v-160H620v160Z\"/>\n",
              "  </svg>\n",
              "    </button>\n",
              "\n",
              "  <style>\n",
              "    .colab-df-container {\n",
              "      display:flex;\n",
              "      gap: 12px;\n",
              "    }\n",
              "\n",
              "    .colab-df-convert {\n",
              "      background-color: #E8F0FE;\n",
              "      border: none;\n",
              "      border-radius: 50%;\n",
              "      cursor: pointer;\n",
              "      display: none;\n",
              "      fill: #1967D2;\n",
              "      height: 32px;\n",
              "      padding: 0 0 0 0;\n",
              "      width: 32px;\n",
              "    }\n",
              "\n",
              "    .colab-df-convert:hover {\n",
              "      background-color: #E2EBFA;\n",
              "      box-shadow: 0px 1px 2px rgba(60, 64, 67, 0.3), 0px 1px 3px 1px rgba(60, 64, 67, 0.15);\n",
              "      fill: #174EA6;\n",
              "    }\n",
              "\n",
              "    .colab-df-buttons div {\n",
              "      margin-bottom: 4px;\n",
              "    }\n",
              "\n",
              "    [theme=dark] .colab-df-convert {\n",
              "      background-color: #3B4455;\n",
              "      fill: #D2E3FC;\n",
              "    }\n",
              "\n",
              "    [theme=dark] .colab-df-convert:hover {\n",
              "      background-color: #434B5C;\n",
              "      box-shadow: 0px 1px 3px 1px rgba(0, 0, 0, 0.15);\n",
              "      filter: drop-shadow(0px 1px 2px rgba(0, 0, 0, 0.3));\n",
              "      fill: #FFFFFF;\n",
              "    }\n",
              "  </style>\n",
              "\n",
              "    <script>\n",
              "      const buttonEl =\n",
              "        document.querySelector('#df-e6f1849b-fec2-4010-b0c7-cb1fed290418 button.colab-df-convert');\n",
              "      buttonEl.style.display =\n",
              "        google.colab.kernel.accessAllowed ? 'block' : 'none';\n",
              "\n",
              "      async function convertToInteractive(key) {\n",
              "        const element = document.querySelector('#df-e6f1849b-fec2-4010-b0c7-cb1fed290418');\n",
              "        const dataTable =\n",
              "          await google.colab.kernel.invokeFunction('convertToInteractive',\n",
              "                                                    [key], {});\n",
              "        if (!dataTable) return;\n",
              "\n",
              "        const docLinkHtml = 'Like what you see? Visit the ' +\n",
              "          '<a target=\"_blank\" href=https://colab.research.google.com/notebooks/data_table.ipynb>data table notebook</a>'\n",
              "          + ' to learn more about interactive tables.';\n",
              "        element.innerHTML = '';\n",
              "        dataTable['output_type'] = 'display_data';\n",
              "        await google.colab.output.renderOutput(dataTable, element);\n",
              "        const docLink = document.createElement('div');\n",
              "        docLink.innerHTML = docLinkHtml;\n",
              "        element.appendChild(docLink);\n",
              "      }\n",
              "    </script>\n",
              "  </div>\n",
              "\n",
              "\n",
              "    <div id=\"df-6765eb1b-3fa3-43a7-b287-c2f1baccee46\">\n",
              "      <button class=\"colab-df-quickchart\" onclick=\"quickchart('df-6765eb1b-3fa3-43a7-b287-c2f1baccee46')\"\n",
              "                title=\"Suggest charts\"\n",
              "                style=\"display:none;\">\n",
              "\n",
              "<svg xmlns=\"http://www.w3.org/2000/svg\" height=\"24px\"viewBox=\"0 0 24 24\"\n",
              "     width=\"24px\">\n",
              "    <g>\n",
              "        <path d=\"M19 3H5c-1.1 0-2 .9-2 2v14c0 1.1.9 2 2 2h14c1.1 0 2-.9 2-2V5c0-1.1-.9-2-2-2zM9 17H7v-7h2v7zm4 0h-2V7h2v10zm4 0h-2v-4h2v4z\"/>\n",
              "    </g>\n",
              "</svg>\n",
              "      </button>\n",
              "\n",
              "<style>\n",
              "  .colab-df-quickchart {\n",
              "      --bg-color: #E8F0FE;\n",
              "      --fill-color: #1967D2;\n",
              "      --hover-bg-color: #E2EBFA;\n",
              "      --hover-fill-color: #174EA6;\n",
              "      --disabled-fill-color: #AAA;\n",
              "      --disabled-bg-color: #DDD;\n",
              "  }\n",
              "\n",
              "  [theme=dark] .colab-df-quickchart {\n",
              "      --bg-color: #3B4455;\n",
              "      --fill-color: #D2E3FC;\n",
              "      --hover-bg-color: #434B5C;\n",
              "      --hover-fill-color: #FFFFFF;\n",
              "      --disabled-bg-color: #3B4455;\n",
              "      --disabled-fill-color: #666;\n",
              "  }\n",
              "\n",
              "  .colab-df-quickchart {\n",
              "    background-color: var(--bg-color);\n",
              "    border: none;\n",
              "    border-radius: 50%;\n",
              "    cursor: pointer;\n",
              "    display: none;\n",
              "    fill: var(--fill-color);\n",
              "    height: 32px;\n",
              "    padding: 0;\n",
              "    width: 32px;\n",
              "  }\n",
              "\n",
              "  .colab-df-quickchart:hover {\n",
              "    background-color: var(--hover-bg-color);\n",
              "    box-shadow: 0 1px 2px rgba(60, 64, 67, 0.3), 0 1px 3px 1px rgba(60, 64, 67, 0.15);\n",
              "    fill: var(--button-hover-fill-color);\n",
              "  }\n",
              "\n",
              "  .colab-df-quickchart-complete:disabled,\n",
              "  .colab-df-quickchart-complete:disabled:hover {\n",
              "    background-color: var(--disabled-bg-color);\n",
              "    fill: var(--disabled-fill-color);\n",
              "    box-shadow: none;\n",
              "  }\n",
              "\n",
              "  .colab-df-spinner {\n",
              "    border: 2px solid var(--fill-color);\n",
              "    border-color: transparent;\n",
              "    border-bottom-color: var(--fill-color);\n",
              "    animation:\n",
              "      spin 1s steps(1) infinite;\n",
              "  }\n",
              "\n",
              "  @keyframes spin {\n",
              "    0% {\n",
              "      border-color: transparent;\n",
              "      border-bottom-color: var(--fill-color);\n",
              "      border-left-color: var(--fill-color);\n",
              "    }\n",
              "    20% {\n",
              "      border-color: transparent;\n",
              "      border-left-color: var(--fill-color);\n",
              "      border-top-color: var(--fill-color);\n",
              "    }\n",
              "    30% {\n",
              "      border-color: transparent;\n",
              "      border-left-color: var(--fill-color);\n",
              "      border-top-color: var(--fill-color);\n",
              "      border-right-color: var(--fill-color);\n",
              "    }\n",
              "    40% {\n",
              "      border-color: transparent;\n",
              "      border-right-color: var(--fill-color);\n",
              "      border-top-color: var(--fill-color);\n",
              "    }\n",
              "    60% {\n",
              "      border-color: transparent;\n",
              "      border-right-color: var(--fill-color);\n",
              "    }\n",
              "    80% {\n",
              "      border-color: transparent;\n",
              "      border-right-color: var(--fill-color);\n",
              "      border-bottom-color: var(--fill-color);\n",
              "    }\n",
              "    90% {\n",
              "      border-color: transparent;\n",
              "      border-bottom-color: var(--fill-color);\n",
              "    }\n",
              "  }\n",
              "</style>\n",
              "\n",
              "      <script>\n",
              "        async function quickchart(key) {\n",
              "          const quickchartButtonEl =\n",
              "            document.querySelector('#' + key + ' button');\n",
              "          quickchartButtonEl.disabled = true;  // To prevent multiple clicks.\n",
              "          quickchartButtonEl.classList.add('colab-df-spinner');\n",
              "          try {\n",
              "            const charts = await google.colab.kernel.invokeFunction(\n",
              "                'suggestCharts', [key], {});\n",
              "          } catch (error) {\n",
              "            console.error('Error during call to suggestCharts:', error);\n",
              "          }\n",
              "          quickchartButtonEl.classList.remove('colab-df-spinner');\n",
              "          quickchartButtonEl.classList.add('colab-df-quickchart-complete');\n",
              "        }\n",
              "        (() => {\n",
              "          let quickchartButtonEl =\n",
              "            document.querySelector('#df-6765eb1b-3fa3-43a7-b287-c2f1baccee46 button');\n",
              "          quickchartButtonEl.style.display =\n",
              "            google.colab.kernel.accessAllowed ? 'block' : 'none';\n",
              "        })();\n",
              "      </script>\n",
              "    </div>\n",
              "\n",
              "    </div>\n",
              "  </div>\n"
            ],
            "application/vnd.google.colaboratory.intrinsic+json": {
              "type": "dataframe",
              "summary": "{\n  \"name\": \"customer_behavior_df\",\n  \"rows\": 8,\n  \"fields\": [\n    {\n      \"column\": \"feature_0\",\n      \"properties\": {\n        \"dtype\": \"number\",\n        \"std\": 176.74433851902324,\n        \"min\": -2.2684038644004354,\n        \"max\": 500.0,\n        \"num_unique_values\": 8,\n        \"samples\": [\n          -2.3447910280083307e-16,\n          -0.12254163658104031,\n          500.0\n        ],\n        \"semantic_type\": \"\",\n        \"description\": \"\"\n      }\n    },\n    {\n      \"column\": \"feature_1\",\n      \"properties\": {\n        \"dtype\": \"number\",\n        \"std\": 176.7365913399203,\n        \"min\": -1.5822195108222432,\n        \"max\": 500.0,\n        \"num_unique_values\": 8,\n        \"samples\": [\n          -1.3145040611561853e-16,\n          0.1318702924573868,\n          500.0\n        ],\n        \"semantic_type\": \"\",\n        \"description\": \"\"\n      }\n    },\n    {\n      \"column\": \"feature_2\",\n      \"properties\": {\n        \"dtype\": \"number\",\n        \"std\": 176.74533339816924,\n        \"min\": -2.404161234516124,\n        \"max\": 500.0,\n        \"num_unique_values\": 8,\n        \"samples\": [\n          5.684341886080802e-16,\n          0.2734486981560059,\n          500.0\n        ],\n        \"semantic_type\": \"\",\n        \"description\": \"\"\n      }\n    },\n    {\n      \"column\": \"feature_3\",\n      \"properties\": {\n        \"dtype\": \"number\",\n        \"std\": 176.74087771566172,\n        \"min\": -2.37045736267921,\n        \"max\": 500.0,\n        \"num_unique_values\": 8,\n        \"samples\": [\n          -1.8829382497642654e-16,\n          0.29189480608445184,\n          500.0\n        ],\n        \"semantic_type\": \"\",\n        \"description\": \"\"\n      }\n    },\n    {\n      \"column\": \"feature_4\",\n      \"properties\": {\n        \"dtype\": \"number\",\n        \"std\": 176.7084468523239,\n        \"min\": -1.2695991035593417,\n        \"max\": 500.0,\n        \"num_unique_values\": 8,\n        \"samples\": [\n          -2.877698079828406e-16,\n          -0.40974008943327095,\n          500.0\n        ],\n        \"semantic_type\": \"\",\n        \"description\": \"\"\n      }\n    }\n  ]\n}"
            }
          },
          "metadata": {},
          "execution_count": 186
        }
      ]
    },
    {
      "cell_type": "code",
      "source": [
        "duplicates=customer_behavior_df.duplicated()\n",
        "customer_behavior_df[duplicates]"
      ],
      "metadata": {
        "colab": {
          "base_uri": "https://localhost:8080/",
          "height": 53
        },
        "id": "quS0i9KtS56I",
        "outputId": "d354d95f-3992-4d86-c9a0-d8a5575eac34"
      },
      "execution_count": 187,
      "outputs": [
        {
          "output_type": "execute_result",
          "data": {
            "text/plain": [
              "Empty DataFrame\n",
              "Columns: [feature_0, feature_1, feature_2, feature_3, feature_4]\n",
              "Index: []"
            ],
            "text/html": [
              "\n",
              "  <div id=\"df-e158d824-c31c-4068-be72-88003b63bcdc\" class=\"colab-df-container\">\n",
              "    <div>\n",
              "<style scoped>\n",
              "    .dataframe tbody tr th:only-of-type {\n",
              "        vertical-align: middle;\n",
              "    }\n",
              "\n",
              "    .dataframe tbody tr th {\n",
              "        vertical-align: top;\n",
              "    }\n",
              "\n",
              "    .dataframe thead th {\n",
              "        text-align: right;\n",
              "    }\n",
              "</style>\n",
              "<table border=\"1\" class=\"dataframe\">\n",
              "  <thead>\n",
              "    <tr style=\"text-align: right;\">\n",
              "      <th></th>\n",
              "      <th>feature_0</th>\n",
              "      <th>feature_1</th>\n",
              "      <th>feature_2</th>\n",
              "      <th>feature_3</th>\n",
              "      <th>feature_4</th>\n",
              "    </tr>\n",
              "  </thead>\n",
              "  <tbody>\n",
              "  </tbody>\n",
              "</table>\n",
              "</div>\n",
              "    <div class=\"colab-df-buttons\">\n",
              "\n",
              "  <div class=\"colab-df-container\">\n",
              "    <button class=\"colab-df-convert\" onclick=\"convertToInteractive('df-e158d824-c31c-4068-be72-88003b63bcdc')\"\n",
              "            title=\"Convert this dataframe to an interactive table.\"\n",
              "            style=\"display:none;\">\n",
              "\n",
              "  <svg xmlns=\"http://www.w3.org/2000/svg\" height=\"24px\" viewBox=\"0 -960 960 960\">\n",
              "    <path d=\"M120-120v-720h720v720H120Zm60-500h600v-160H180v160Zm220 220h160v-160H400v160Zm0 220h160v-160H400v160ZM180-400h160v-160H180v160Zm440 0h160v-160H620v160ZM180-180h160v-160H180v160Zm440 0h160v-160H620v160Z\"/>\n",
              "  </svg>\n",
              "    </button>\n",
              "\n",
              "  <style>\n",
              "    .colab-df-container {\n",
              "      display:flex;\n",
              "      gap: 12px;\n",
              "    }\n",
              "\n",
              "    .colab-df-convert {\n",
              "      background-color: #E8F0FE;\n",
              "      border: none;\n",
              "      border-radius: 50%;\n",
              "      cursor: pointer;\n",
              "      display: none;\n",
              "      fill: #1967D2;\n",
              "      height: 32px;\n",
              "      padding: 0 0 0 0;\n",
              "      width: 32px;\n",
              "    }\n",
              "\n",
              "    .colab-df-convert:hover {\n",
              "      background-color: #E2EBFA;\n",
              "      box-shadow: 0px 1px 2px rgba(60, 64, 67, 0.3), 0px 1px 3px 1px rgba(60, 64, 67, 0.15);\n",
              "      fill: #174EA6;\n",
              "    }\n",
              "\n",
              "    .colab-df-buttons div {\n",
              "      margin-bottom: 4px;\n",
              "    }\n",
              "\n",
              "    [theme=dark] .colab-df-convert {\n",
              "      background-color: #3B4455;\n",
              "      fill: #D2E3FC;\n",
              "    }\n",
              "\n",
              "    [theme=dark] .colab-df-convert:hover {\n",
              "      background-color: #434B5C;\n",
              "      box-shadow: 0px 1px 3px 1px rgba(0, 0, 0, 0.15);\n",
              "      filter: drop-shadow(0px 1px 2px rgba(0, 0, 0, 0.3));\n",
              "      fill: #FFFFFF;\n",
              "    }\n",
              "  </style>\n",
              "\n",
              "    <script>\n",
              "      const buttonEl =\n",
              "        document.querySelector('#df-e158d824-c31c-4068-be72-88003b63bcdc button.colab-df-convert');\n",
              "      buttonEl.style.display =\n",
              "        google.colab.kernel.accessAllowed ? 'block' : 'none';\n",
              "\n",
              "      async function convertToInteractive(key) {\n",
              "        const element = document.querySelector('#df-e158d824-c31c-4068-be72-88003b63bcdc');\n",
              "        const dataTable =\n",
              "          await google.colab.kernel.invokeFunction('convertToInteractive',\n",
              "                                                    [key], {});\n",
              "        if (!dataTable) return;\n",
              "\n",
              "        const docLinkHtml = 'Like what you see? Visit the ' +\n",
              "          '<a target=\"_blank\" href=https://colab.research.google.com/notebooks/data_table.ipynb>data table notebook</a>'\n",
              "          + ' to learn more about interactive tables.';\n",
              "        element.innerHTML = '';\n",
              "        dataTable['output_type'] = 'display_data';\n",
              "        await google.colab.output.renderOutput(dataTable, element);\n",
              "        const docLink = document.createElement('div');\n",
              "        docLink.innerHTML = docLinkHtml;\n",
              "        element.appendChild(docLink);\n",
              "      }\n",
              "    </script>\n",
              "  </div>\n",
              "\n",
              "\n",
              "    </div>\n",
              "  </div>\n"
            ],
            "application/vnd.google.colaboratory.intrinsic+json": {
              "type": "dataframe",
              "summary": "{\n  \"name\": \"customer_behavior_df[duplicates]\",\n  \"rows\": 0,\n  \"fields\": [\n    {\n      \"column\": \"feature_0\",\n      \"properties\": {\n        \"dtype\": \"number\",\n        \"std\": null,\n        \"min\": null,\n        \"max\": null,\n        \"num_unique_values\": 0,\n        \"samples\": [],\n        \"semantic_type\": \"\",\n        \"description\": \"\"\n      }\n    },\n    {\n      \"column\": \"feature_1\",\n      \"properties\": {\n        \"dtype\": \"number\",\n        \"std\": null,\n        \"min\": null,\n        \"max\": null,\n        \"num_unique_values\": 0,\n        \"samples\": [],\n        \"semantic_type\": \"\",\n        \"description\": \"\"\n      }\n    },\n    {\n      \"column\": \"feature_2\",\n      \"properties\": {\n        \"dtype\": \"number\",\n        \"std\": null,\n        \"min\": null,\n        \"max\": null,\n        \"num_unique_values\": 0,\n        \"samples\": [],\n        \"semantic_type\": \"\",\n        \"description\": \"\"\n      }\n    },\n    {\n      \"column\": \"feature_3\",\n      \"properties\": {\n        \"dtype\": \"number\",\n        \"std\": null,\n        \"min\": null,\n        \"max\": null,\n        \"num_unique_values\": 0,\n        \"samples\": [],\n        \"semantic_type\": \"\",\n        \"description\": \"\"\n      }\n    },\n    {\n      \"column\": \"feature_4\",\n      \"properties\": {\n        \"dtype\": \"number\",\n        \"std\": null,\n        \"min\": null,\n        \"max\": null,\n        \"num_unique_values\": 0,\n        \"samples\": [],\n        \"semantic_type\": \"\",\n        \"description\": \"\"\n      }\n    }\n  ]\n}"
            }
          },
          "metadata": {},
          "execution_count": 187
        }
      ]
    },
    {
      "cell_type": "code",
      "source": [
        "customer_behavior_df.shape"
      ],
      "metadata": {
        "colab": {
          "base_uri": "https://localhost:8080/"
        },
        "id": "TmHutNE7Yvel",
        "outputId": "fd3a0746-fe28-4fa6-b0e1-17ea1a9adad7"
      },
      "execution_count": 188,
      "outputs": [
        {
          "output_type": "execute_result",
          "data": {
            "text/plain": [
              "(500, 5)"
            ]
          },
          "metadata": {},
          "execution_count": 188
        }
      ]
    },
    {
      "cell_type": "code",
      "source": [
        "plt.figure(figsize=(10,10))\n",
        "x=1\n",
        "for col in customer_behavior_df:\n",
        "  plt.subplot(2,3,x)\n",
        "  sns.boxplot(customer_behavior_df[col])\n",
        "  plt.title(f\"{col}\")\n",
        "  x=x+1\n",
        "plt.show()"
      ],
      "metadata": {
        "colab": {
          "base_uri": "https://localhost:8080/",
          "height": 834
        },
        "id": "MLi49GBaEMXB",
        "outputId": "cccc31ae-e2ab-4750-8e4b-13ca98c3266a"
      },
      "execution_count": 189,
      "outputs": [
        {
          "output_type": "display_data",
          "data": {
            "text/plain": [
              "<Figure size 1000x1000 with 5 Axes>"
            ],
            "image/png": "[encoded data removed]"
          },
          "metadata": {}
        }
      ]
    },
    {
      "cell_type": "code",
      "source": [
        "customer_behavior_df.hist(figsize=(10,10))"
      ],
      "metadata": {
        "colab": {
          "base_uri": "https://localhost:8080/",
          "height": 940
        },
        "id": "GnCtyjKvErUE",
        "outputId": "f43d5770-2c0f-4ead-90b3-58e0efabf640"
      },
      "execution_count": 190,
      "outputs": [
        {
          "output_type": "execute_result",
          "data": {
            "text/plain": [
              "array([[<Axes: title={'center': 'feature_0'}>,\n",
              "        <Axes: title={'center': 'feature_1'}>],\n",
              "       [<Axes: title={'center': 'feature_2'}>,\n",
              "        <Axes: title={'center': 'feature_3'}>],\n",
              "       [<Axes: title={'center': 'feature_4'}>, <Axes: >]], dtype=object)"
            ]
          },
          "metadata": {},
          "execution_count": 190
        },
        {
          "output_type": "display_data",
          "data": {
            "text/plain": [
              "<Figure size 1000x1000 with 6 Axes>"
            ],
            "image/png": "[encoded data removed]"
          },
          "metadata": {}
        }
      ]
    },
    {
      "cell_type": "code",
      "source": [
        "from scipy.stats import shapiro\n",
        "\n",
        "stat1, p1 = shapiro(customer_behavior_df['feature_1'])\n",
        "stat4, p4 = shapiro(customer_behavior_df['feature_4'])\n",
        "print(stat1)\n",
        "print(p1)\n",
        "print('='*10)\n",
        "print(stat4)\n",
        "print(p4)\n",
        "print('='*10)"
      ],
      "metadata": {
        "colab": {
          "base_uri": "https://localhost:8080/"
        },
        "id": "Elj9mqwSYzEd",
        "outputId": "2bb893c9-3bd8-400e-d866-734064a9a818"
      },
      "execution_count": 191,
      "outputs": [
        {
          "output_type": "stream",
          "name": "stdout",
          "text": [
            "0.8089810678160348\n",
            "7.103799227605812e-24\n",
            "==========\n",
            "0.8148605355430596\n",
            "1.5138451766585203e-23\n",
            "==========\n"
          ]
        }
      ]
    },
    {
      "cell_type": "markdown",
      "source": [
        "- p less than 0.05"
      ],
      "metadata": {
        "id": "cck4pJFbZInR"
      }
    },
    {
      "cell_type": "markdown",
      "source": [
        "- Feature_1 and Feature_4 distribution I searched a lot for the solution but can not find anything usfel untill yet and the time is run out\n",
        "- So I will just leave it now , hope I can find solution latter"
      ],
      "metadata": {
        "id": "n2QEwvcFamPo"
      }
    },
    {
      "cell_type": "code",
      "source": [
        "# #suggested solution to add noise to data but not created any difference\n",
        "# import numpy as np\n",
        "# customer_behavior_df_noisy = pd.DataFrame(customer_behavior_df.values + np.random.normal(\n",
        "#     0, 0.2, customer_behavior_df.shape))"
      ],
      "metadata": {
        "id": "Wv6Ta0ZccS-A"
      },
      "execution_count": 192,
      "outputs": []
    },
    {
      "cell_type": "code",
      "source": [
        "# customer_behavior_df_noisy.hist(figsize=(10,10))"
      ],
      "metadata": {
        "id": "bJkSOSr0cix0"
      },
      "execution_count": 193,
      "outputs": []
    },
    {
      "cell_type": "code",
      "source": [
        "corr=customer_behavior_df.corr()\n",
        "sns.heatmap(corr,annot=True)\n",
        "plt.show()"
      ],
      "metadata": {
        "colab": {
          "base_uri": "https://localhost:8080/",
          "height": 435
        },
        "id": "ikULAUAcPWkP",
        "outputId": "e86ae8ec-8812-431f-b043-36ed790f9aa8"
      },
      "execution_count": 194,
      "outputs": [
        {
          "output_type": "display_data",
          "data": {
            "text/plain": [
              "<Figure size 640x480 with 2 Axes>"
            ],
            "image/png": "[encoded data removed]"
          },
          "metadata": {}
        }
      ]
    },
    {
      "cell_type": "markdown",
      "source": [
        "- Need PCA"
      ],
      "metadata": {
        "id": "frC7lpAvSFGy"
      }
    },
    {
      "cell_type": "code",
      "source": [
        "from sklearn.preprocessing import StandardScaler\n",
        "from sklearn.decomposition import PCA\n",
        "scaler=StandardScaler()\n",
        "customer_behavior_df_scaled=scaler.fit_transform(customer_behavior_df)\n",
        "pca=PCA(n_components=2)\n",
        "customer_behavior_df_pca=pca.fit_transform(customer_behavior_df_scaled)"
      ],
      "metadata": {
        "id": "GGY_EzRlSI4p"
      },
      "execution_count": 195,
      "outputs": []
    },
    {
      "cell_type": "code",
      "source": [
        "customer_behavior_df_scaled"
      ],
      "metadata": {
        "colab": {
          "base_uri": "https://localhost:8080/"
        },
        "id": "JlrpVxGDS1QJ",
        "outputId": "8e94732a-8390-43f8-e746-00cf1b56c3a9"
      },
      "execution_count": 196,
      "outputs": [
        {
          "output_type": "execute_result",
          "data": {
            "text/plain": [
              "array([[-1.24832456, -1.13717383,  0.27796768,  0.7029521 ,  1.37416635],\n",
              "       [-1.24100285,  0.72080425,  0.94474905, -1.67214737, -0.69503768],\n",
              "       [-0.85972776,  0.95529488,  0.74252172, -1.4160555 , -0.82089139],\n",
              "       ...,\n",
              "       [-1.16865739,  0.96344409,  0.42267183, -1.46178702, -0.57900792],\n",
              "       [-0.26477281, -1.26199981,  1.30516874,  0.56714245,  1.69848664],\n",
              "       [ 0.27002454, -0.60692067, -1.92771285,  0.05996201, -0.00516448]])"
            ]
          },
          "metadata": {},
          "execution_count": 196
        }
      ]
    },
    {
      "cell_type": "markdown",
      "source": [
        "# Clustering Data"
      ],
      "metadata": {
        "id": "prcY7VP3THDg"
      }
    },
    {
      "cell_type": "code",
      "source": [
        "from sklearn.cluster import KMeans\n",
        "inertia = []\n",
        "for k in range(1,11):\n",
        "    kmeans = KMeans(n_clusters=k, random_state=42)\n",
        "    kmeans.fit(customer_behavior_df_pca)\n",
        "    inertia.append(kmeans.inertia_)\n",
        "\n",
        "\n",
        "plt.plot(range(1,11), inertia, 'bo-')\n",
        "plt.xlabel('Number of clusters (k)')\n",
        "plt.ylabel('Inertia')\n",
        "plt.title('Elbow Method For Optimal k')\n",
        "plt.show()\n"
      ],
      "metadata": {
        "colab": {
          "base_uri": "https://localhost:8080/",
          "height": 472
        },
        "id": "trs2Nhs7S26M",
        "outputId": "6e9d5ad1-8040-4200-b0c6-c4c507b1f97e"
      },
      "execution_count": 197,
      "outputs": [
        {
          "output_type": "display_data",
          "data": {
            "text/plain": [
              "<Figure size 640x480 with 1 Axes>"
            ],
            "image/png": "[encoded data removed]"
          },
          "metadata": {}
        }
      ]
    },
    {
      "cell_type": "markdown",
      "source": [
        "- Four clusters is good decision"
      ],
      "metadata": {
        "id": "L5ePCKFpTqh7"
      }
    },
    {
      "cell_type": "code",
      "source": [
        "kmeans=KMeans(n_clusters=4,random_state=42)\n",
        "kmeans.fit_transform(customer_behavior_df_pca)\n",
        "kmean_prdict=kmeans.predict(customer_behavior_df_pca)"
      ],
      "metadata": {
        "id": "_Je9Eg-xTg2L"
      },
      "execution_count": 198,
      "outputs": []
    },
    {
      "cell_type": "code",
      "source": [
        "kmean_prdict"
      ],
      "metadata": {
        "colab": {
          "base_uri": "https://localhost:8080/"
        },
        "id": "NSysod97TyKX",
        "outputId": "0f90b198-540e-43dc-b010-e885ec41f5cf"
      },
      "execution_count": 199,
      "outputs": [
        {
          "output_type": "execute_result",
          "data": {
            "text/plain": [
              "array([1, 2, 2, 2, 0, 2, 3, 1, 2, 3, 0, 1, 1, 1, 1, 2, 0, 1, 2, 2, 3, 3,\n",
              "       2, 2, 3, 0, 1, 0, 3, 3, 2, 1, 2, 2, 3, 0, 0, 1, 0, 1, 0, 3, 1, 0,\n",
              "       0, 1, 3, 0, 3, 1, 1, 1, 3, 0, 2, 0, 0, 1, 2, 3, 0, 2, 3, 1, 1, 0,\n",
              "       2, 1, 0, 3, 3, 3, 2, 2, 2, 3, 2, 1, 2, 1, 3, 1, 2, 3, 3, 3, 0, 2,\n",
              "       0, 3, 2, 0, 0, 1, 1, 0, 0, 2, 2, 1, 1, 2, 0, 2, 1, 1, 1, 1, 0, 3,\n",
              "       2, 1, 0, 3, 2, 2, 3, 1, 2, 1, 3, 1, 0, 3, 0, 2, 2, 0, 1, 0, 1, 3,\n",
              "       1, 0, 3, 3, 0, 0, 0, 1, 2, 0, 0, 0, 1, 2, 1, 1, 3, 3, 3, 3, 3, 1,\n",
              "       3, 3, 2, 1, 0, 2, 0, 2, 1, 3, 2, 0, 3, 3, 0, 3, 2, 2, 3, 1, 2, 1,\n",
              "       2, 3, 0, 1, 3, 1, 0, 2, 1, 3, 2, 0, 0, 1, 0, 1, 2, 0, 2, 0, 3, 2,\n",
              "       0, 2, 2, 2, 0, 2, 2, 1, 1, 2, 0, 3, 1, 2, 3, 2, 2, 0, 0, 1, 2, 2,\n",
              "       0, 2, 2, 0, 3, 0, 2, 3, 1, 2, 2, 0, 0, 1, 0, 0, 0, 2, 2, 3, 2, 2,\n",
              "       1, 0, 3, 1, 0, 1, 0, 0, 3, 1, 3, 2, 2, 2, 1, 0, 2, 1, 3, 2, 3, 2,\n",
              "       2, 1, 0, 1, 0, 3, 3, 2, 1, 3, 1, 2, 2, 3, 0, 0, 0, 2, 3, 1, 2, 3,\n",
              "       0, 2, 1, 2, 2, 0, 3, 2, 2, 0, 1, 1, 3, 3, 1, 3, 2, 2, 3, 0, 1, 2,\n",
              "       2, 3, 0, 0, 0, 3, 0, 1, 3, 0, 0, 3, 2, 1, 0, 2, 2, 3, 0, 1, 0, 3,\n",
              "       2, 0, 1, 0, 3, 0, 1, 2, 2, 1, 3, 1, 3, 0, 1, 1, 1, 3, 1, 1, 0, 0,\n",
              "       1, 1, 2, 3, 2, 3, 1, 1, 3, 3, 0, 3, 2, 2, 0, 0, 1, 2, 3, 1, 3, 0,\n",
              "       0, 1, 2, 2, 0, 1, 3, 0, 1, 1, 2, 0, 3, 3, 0, 2, 3, 2, 2, 0, 0, 2,\n",
              "       2, 1, 3, 3, 2, 1, 0, 1, 3, 0, 3, 3, 3, 2, 3, 2, 1, 0, 3, 1, 3, 2,\n",
              "       0, 1, 3, 3, 3, 3, 1, 1, 3, 0, 3, 1, 1, 0, 0, 1, 1, 1, 3, 0, 1, 0,\n",
              "       3, 3, 1, 1, 1, 3, 2, 1, 3, 0, 0, 0, 1, 3, 0, 0, 1, 3, 0, 3, 0, 2,\n",
              "       0, 1, 1, 3, 1, 1, 2, 3, 1, 3, 2, 3, 3, 3, 3, 0, 3, 0, 3, 2, 0, 3,\n",
              "       1, 0, 0, 0, 0, 1, 2, 1, 2, 0, 2, 2, 2, 2, 1, 3], dtype=int32)"
            ]
          },
          "metadata": {},
          "execution_count": 199
        }
      ]
    },
    {
      "cell_type": "markdown",
      "source": [
        "# Classification model"
      ],
      "metadata": {
        "id": "XwxsEhIVUSF3"
      }
    },
    {
      "cell_type": "code",
      "source": [
        "from sklearn.model_selection import train_test_split\n",
        "x_train,x_test,y_train,y_test=train_test_split(\n",
        "    customer_behavior_df_pca,kmean_prdict,test_size=0.2,random_state=42)"
      ],
      "metadata": {
        "id": "5SSQ8FeyUc4N"
      },
      "execution_count": 200,
      "outputs": []
    },
    {
      "cell_type": "code",
      "source": [
        "from sklearn.neighbors import KNeighborsClassifier\n",
        "from sklearn.preprocessing import MinMaxScaler\n",
        "from sklearn.model_selection import GridSearchCV\n",
        "\n",
        "knn=KNeighborsClassifier()\n",
        "param_grid = {\n",
        "    'n_neighbors': [3, 5, 7, 9, 11, 15],\n",
        "    'weights': ['uniform', 'distance'],\n",
        "    'metric': ['minkowski'],\n",
        "    'p': [1, 2]\n",
        "    }\n",
        "grid_search_knn=GridSearchCV(\n",
        "    estimator=knn,\n",
        "    param_grid=param_grid,\n",
        "    cv=5,\n",
        "    verbose=2\n",
        ")\n",
        "grid_search_knn.fit(x_train,y_train)\n",
        "print(f\"Best Param: {grid_search_knn.best_params_}\")"
      ],
      "metadata": {
        "colab": {
          "base_uri": "https://localhost:8080/"
        },
        "id": "tatRjCUQT24O",
        "outputId": "553600c0-bf6f-41dd-d167-d333226f3387"
      },
      "execution_count": 201,
      "outputs": [
        {
          "output_type": "stream",
          "name": "stdout",
          "text": [
            "Fitting 5 folds for each of 24 candidates, totalling 120 fits\n",
            "[CV] END metric=minkowski, n_neighbors=3, p=1, weights=uniform; total time=   0.0s\n",
            "[CV] END metric=minkowski, n_neighbors=3, p=1, weights=uniform; total time=   0.0s\n",
            "[CV] END metric=minkowski, n_neighbors=3, p=1, weights=uniform; total time=   0.0s\n",
            "[CV] END metric=minkowski, n_neighbors=3, p=1, weights=uniform; total time=   0.0s\n",
            "[CV] END metric=minkowski, n_neighbors=3, p=1, weights=uniform; total time=   0.0s\n",
            "[CV] END metric=minkowski, n_neighbors=3, p=1, weights=distance; total time=   0.0s\n",
            "[CV] END metric=minkowski, n_neighbors=3, p=1, weights=distance; total time=   0.0s\n",
            "[CV] END metric=minkowski, n_neighbors=3, p=1, weights=distance; total time=   0.0s\n",
            "[CV] END metric=minkowski, n_neighbors=3, p=1, weights=distance; total time=   0.0s\n",
            "[CV] END metric=minkowski, n_neighbors=3, p=1, weights=distance; total time=   0.0s\n",
            "[CV] END metric=minkowski, n_neighbors=3, p=2, weights=uniform; total time=   0.0s\n",
            "[CV] END metric=minkowski, n_neighbors=3, p=2, weights=uniform; total time=   0.0s\n",
            "[CV] END metric=minkowski, n_neighbors=3, p=2, weights=uniform; total time=   0.0s\n",
            "[CV] END metric=minkowski, n_neighbors=3, p=2, weights=uniform; total time=   0.0s\n",
            "[CV] END metric=minkowski, n_neighbors=3, p=2, weights=uniform; total time=   0.0s\n",
            "[CV] END metric=minkowski, n_neighbors=3, p=2, weights=distance; total time=   0.0s\n",
            "[CV] END metric=minkowski, n_neighbors=3, p=2, weights=distance; total time=   0.0s\n",
            "[CV] END metric=minkowski, n_neighbors=3, p=2, weights=distance; total time=   0.0s\n",
            "[CV] END metric=minkowski, n_neighbors=3, p=2, weights=distance; total time=   0.0s\n",
            "[CV] END metric=minkowski, n_neighbors=3, p=2, weights=distance; total time=   0.0s\n",
            "[CV] END metric=minkowski, n_neighbors=5, p=1, weights=uniform; total time=   0.0s\n",
            "[CV] END metric=minkowski, n_neighbors=5, p=1, weights=uniform; total time=   0.0s\n",
            "[CV] END metric=minkowski, n_neighbors=5, p=1, weights=uniform; total time=   0.0s\n",
            "[CV] END metric=minkowski, n_neighbors=5, p=1, weights=uniform; total time=   0.0s\n",
            "[CV] END metric=minkowski, n_neighbors=5, p=1, weights=uniform; total time=   0.0s\n",
            "[CV] END metric=minkowski, n_neighbors=5, p=1, weights=distance; total time=   0.0s\n",
            "[CV] END metric=minkowski, n_neighbors=5, p=1, weights=distance; total time=   0.0s\n",
            "[CV] END metric=minkowski, n_neighbors=5, p=1, weights=distance; total time=   0.0s\n",
            "[CV] END metric=minkowski, n_neighbors=5, p=1, weights=distance; total time=   0.0s\n",
            "[CV] END metric=minkowski, n_neighbors=5, p=1, weights=distance; total time=   0.0s\n",
            "[CV] END metric=minkowski, n_neighbors=5, p=2, weights=uniform; total time=   0.0s\n",
            "[CV] END metric=minkowski, n_neighbors=5, p=2, weights=uniform; total time=   0.0s\n",
            "[CV] END metric=minkowski, n_neighbors=5, p=2, weights=uniform; total time=   0.0s\n",
            "[CV] END metric=minkowski, n_neighbors=5, p=2, weights=uniform; total time=   0.0s\n",
            "[CV] END metric=minkowski, n_neighbors=5, p=2, weights=uniform; total time=   0.0s\n",
            "[CV] END metric=minkowski, n_neighbors=5, p=2, weights=distance; total time=   0.0s\n",
            "[CV] END metric=minkowski, n_neighbors=5, p=2, weights=distance; total time=   0.0s\n",
            "[CV] END metric=minkowski, n_neighbors=5, p=2, weights=distance; total time=   0.0s\n",
            "[CV] END metric=minkowski, n_neighbors=5, p=2, weights=distance; total time=   0.0s\n",
            "[CV] END metric=minkowski, n_neighbors=5, p=2, weights=distance; total time=   0.0s\n",
            "[CV] END metric=minkowski, n_neighbors=7, p=1, weights=uniform; total time=   0.0s\n",
            "[CV] END metric=minkowski, n_neighbors=7, p=1, weights=uniform; total time=   0.0s\n",
            "[CV] END metric=minkowski, n_neighbors=7, p=1, weights=uniform; total time=   0.0s\n",
            "[CV] END metric=minkowski, n_neighbors=7, p=1, weights=uniform; total time=   0.0s\n",
            "[CV] END metric=minkowski, n_neighbors=7, p=1, weights=uniform; total time=   0.0s\n",
            "[CV] END metric=minkowski, n_neighbors=7, p=1, weights=distance; total time=   0.0s\n",
            "[CV] END metric=minkowski, n_neighbors=7, p=1, weights=distance; total time=   0.0s\n",
            "[CV] END metric=minkowski, n_neighbors=7, p=1, weights=distance; total time=   0.0s\n",
            "[CV] END metric=minkowski, n_neighbors=7, p=1, weights=distance; total time=   0.0s\n",
            "[CV] END metric=minkowski, n_neighbors=7, p=1, weights=distance; total time=   0.0s\n",
            "[CV] END metric=minkowski, n_neighbors=7, p=2, weights=uniform; total time=   0.0s\n",
            "[CV] END metric=minkowski, n_neighbors=7, p=2, weights=uniform; total time=   0.0s\n",
            "[CV] END metric=minkowski, n_neighbors=7, p=2, weights=uniform; total time=   0.0s\n",
            "[CV] END metric=minkowski, n_neighbors=7, p=2, weights=uniform; total time=   0.0s\n",
            "[CV] END metric=minkowski, n_neighbors=7, p=2, weights=uniform; total time=   0.0s\n",
            "[CV] END metric=minkowski, n_neighbors=7, p=2, weights=distance; total time=   0.0s\n",
            "[CV] END metric=minkowski, n_neighbors=7, p=2, weights=distance; total time=   0.0s\n",
            "[CV] END metric=minkowski, n_neighbors=7, p=2, weights=distance; total time=   0.0s\n",
            "[CV] END metric=minkowski, n_neighbors=7, p=2, weights=distance; total time=   0.0s\n",
            "[CV] END metric=minkowski, n_neighbors=7, p=2, weights=distance; total time=   0.0s\n",
            "[CV] END metric=minkowski, n_neighbors=9, p=1, weights=uniform; total time=   0.0s\n",
            "[CV] END metric=minkowski, n_neighbors=9, p=1, weights=uniform; total time=   0.0s\n",
            "[CV] END metric=minkowski, n_neighbors=9, p=1, weights=uniform; total time=   0.0s\n",
            "[CV] END metric=minkowski, n_neighbors=9, p=1, weights=uniform; total time=   0.0s\n",
            "[CV] END metric=minkowski, n_neighbors=9, p=1, weights=uniform; total time=   0.0s\n",
            "[CV] END metric=minkowski, n_neighbors=9, p=1, weights=distance; total time=   0.0s\n",
            "[CV] END metric=minkowski, n_neighbors=9, p=1, weights=distance; total time=   0.0s\n",
            "[CV] END metric=minkowski, n_neighbors=9, p=1, weights=distance; total time=   0.0s\n",
            "[CV] END metric=minkowski, n_neighbors=9, p=1, weights=distance; total time=   0.0s\n",
            "[CV] END metric=minkowski, n_neighbors=9, p=1, weights=distance; total time=   0.0s\n",
            "[CV] END metric=minkowski, n_neighbors=9, p=2, weights=uniform; total time=   0.0s\n",
            "[CV] END metric=minkowski, n_neighbors=9, p=2, weights=uniform; total time=   0.0s\n",
            "[CV] END metric=minkowski, n_neighbors=9, p=2, weights=uniform; total time=   0.0s\n",
            "[CV] END metric=minkowski, n_neighbors=9, p=2, weights=uniform; total time=   0.0s\n",
            "[CV] END metric=minkowski, n_neighbors=9, p=2, weights=uniform; total time=   0.0s\n",
            "[CV] END metric=minkowski, n_neighbors=9, p=2, weights=distance; total time=   0.0s\n",
            "[CV] END metric=minkowski, n_neighbors=9, p=2, weights=distance; total time=   0.0s\n",
            "[CV] END metric=minkowski, n_neighbors=9, p=2, weights=distance; total time=   0.0s\n",
            "[CV] END metric=minkowski, n_neighbors=9, p=2, weights=distance; total time=   0.0s\n",
            "[CV] END metric=minkowski, n_neighbors=9, p=2, weights=distance; total time=   0.0s\n",
            "[CV] END metric=minkowski, n_neighbors=11, p=1, weights=uniform; total time=   0.0s\n",
            "[CV] END metric=minkowski, n_neighbors=11, p=1, weights=uniform; total time=   0.0s\n",
            "[CV] END metric=minkowski, n_neighbors=11, p=1, weights=uniform; total time=   0.0s\n",
            "[CV] END metric=minkowski, n_neighbors=11, p=1, weights=uniform; total time=   0.0s\n",
            "[CV] END metric=minkowski, n_neighbors=11, p=1, weights=uniform; total time=   0.0s\n",
            "[CV] END metric=minkowski, n_neighbors=11, p=1, weights=distance; total time=   0.0s\n",
            "[CV] END metric=minkowski, n_neighbors=11, p=1, weights=distance; total time=   0.0s\n",
            "[CV] END metric=minkowski, n_neighbors=11, p=1, weights=distance; total time=   0.0s\n",
            "[CV] END metric=minkowski, n_neighbors=11, p=1, weights=distance; total time=   0.0s\n",
            "[CV] END metric=minkowski, n_neighbors=11, p=1, weights=distance; total time=   0.0s\n",
            "[CV] END metric=minkowski, n_neighbors=11, p=2, weights=uniform; total time=   0.0s\n",
            "[CV] END metric=minkowski, n_neighbors=11, p=2, weights=uniform; total time=   0.0s\n",
            "[CV] END metric=minkowski, n_neighbors=11, p=2, weights=uniform; total time=   0.0s\n",
            "[CV] END metric=minkowski, n_neighbors=11, p=2, weights=uniform; total time=   0.0s\n",
            "[CV] END metric=minkowski, n_neighbors=11, p=2, weights=uniform; total time=   0.0s\n",
            "[CV] END metric=minkowski, n_neighbors=11, p=2, weights=distance; total time=   0.0s\n",
            "[CV] END metric=minkowski, n_neighbors=11, p=2, weights=distance; total time=   0.0s\n",
            "[CV] END metric=minkowski, n_neighbors=11, p=2, weights=distance; total time=   0.0s\n",
            "[CV] END metric=minkowski, n_neighbors=11, p=2, weights=distance; total time=   0.0s\n",
            "[CV] END metric=minkowski, n_neighbors=11, p=2, weights=distance; total time=   0.0s\n",
            "[CV] END metric=minkowski, n_neighbors=15, p=1, weights=uniform; total time=   0.0s\n",
            "[CV] END metric=minkowski, n_neighbors=15, p=1, weights=uniform; total time=   0.0s\n",
            "[CV] END metric=minkowski, n_neighbors=15, p=1, weights=uniform; total time=   0.0s\n",
            "[CV] END metric=minkowski, n_neighbors=15, p=1, weights=uniform; total time=   0.0s\n",
            "[CV] END metric=minkowski, n_neighbors=15, p=1, weights=uniform; total time=   0.0s\n",
            "[CV] END metric=minkowski, n_neighbors=15, p=1, weights=distance; total time=   0.0s\n",
            "[CV] END metric=minkowski, n_neighbors=15, p=1, weights=distance; total time=   0.0s\n",
            "[CV] END metric=minkowski, n_neighbors=15, p=1, weights=distance; total time=   0.0s\n",
            "[CV] END metric=minkowski, n_neighbors=15, p=1, weights=distance; total time=   0.0s\n",
            "[CV] END metric=minkowski, n_neighbors=15, p=1, weights=distance; total time=   0.0s\n",
            "[CV] END metric=minkowski, n_neighbors=15, p=2, weights=uniform; total time=   0.0s\n",
            "[CV] END metric=minkowski, n_neighbors=15, p=2, weights=uniform; total time=   0.0s\n",
            "[CV] END metric=minkowski, n_neighbors=15, p=2, weights=uniform; total time=   0.0s\n",
            "[CV] END metric=minkowski, n_neighbors=15, p=2, weights=uniform; total time=   0.0s\n",
            "[CV] END metric=minkowski, n_neighbors=15, p=2, weights=uniform; total time=   0.0s\n",
            "[CV] END metric=minkowski, n_neighbors=15, p=2, weights=distance; total time=   0.0s\n",
            "[CV] END metric=minkowski, n_neighbors=15, p=2, weights=distance; total time=   0.0s\n",
            "[CV] END metric=minkowski, n_neighbors=15, p=2, weights=distance; total time=   0.0s\n",
            "[CV] END metric=minkowski, n_neighbors=15, p=2, weights=distance; total time=   0.0s\n",
            "[CV] END metric=minkowski, n_neighbors=15, p=2, weights=distance; total time=   0.0s\n",
            "Best Param: {'metric': 'minkowski', 'n_neighbors': 9, 'p': 2, 'weights': 'uniform'}\n"
          ]
        }
      ]
    },
    {
      "cell_type": "code",
      "source": [
        "from sklearn.metrics import accuracy_score\n",
        "y_predict_knn=grid_search_knn.predict(x_test)\n",
        "accuracy_score(y_test,y_predict_knn)"
      ],
      "metadata": {
        "colab": {
          "base_uri": "https://localhost:8080/"
        },
        "id": "J-FvtydlU9Ba",
        "outputId": "daa7aacf-cf18-4c9b-df57-bebcbf47ffbb"
      },
      "execution_count": 202,
      "outputs": [
        {
          "output_type": "execute_result",
          "data": {
            "text/plain": [
              "1.0"
            ]
          },
          "metadata": {},
          "execution_count": 202
        }
      ]
    },
    {
      "cell_type": "code",
      "source": [
        "from sklearn.metrics import confusion_matrix\n",
        "cm=confusion_matrix(y_test,y_predict_knn)\n",
        "sns.heatmap(cm,annot=True)\n",
        "plt.show()"
      ],
      "metadata": {
        "colab": {
          "base_uri": "https://localhost:8080/",
          "height": 430
        },
        "id": "7LUo4ytnVhwy",
        "outputId": "dfa4d073-be3f-4229-9957-0b040daeb1c3"
      },
      "execution_count": 203,
      "outputs": [
        {
          "output_type": "display_data",
          "data": {
            "text/plain": [
              "<Figure size 640x480 with 2 Axes>"
            ],
            "image/png": "[encoded data removed]"
          },
          "metadata": {}
        }
      ]
    },
    {
      "cell_type": "code",
      "source": [
        "from sklearn.svm import SVC\n",
        "model=SVC(kernel='rbf')\n",
        "param_grid={\n",
        "    'C':[0.1,1,10,100],\n",
        "    'gamma':[0.01,0.1,1,10]\n",
        "}\n",
        "grid_search=GridSearchCV(\n",
        "    estimator=model,\n",
        "    param_grid=param_grid,\n",
        "    cv=5,\n",
        "    verbose=2\n",
        ")\n",
        "grid_search.fit(x_train,y_train)\n",
        "print(f\"Best Param: {grid_search.best_params_}\")"
      ],
      "metadata": {
        "colab": {
          "base_uri": "https://localhost:8080/"
        },
        "id": "z5DL44OuVxOp",
        "outputId": "cc328af7-a97c-4b3c-dddc-ad825f88ef79"
      },
      "execution_count": 204,
      "outputs": [
        {
          "output_type": "stream",
          "name": "stdout",
          "text": [
            "Fitting 5 folds for each of 16 candidates, totalling 80 fits\n",
            "[CV] END ..................................C=0.1, gamma=0.01; total time=   0.0s\n",
            "[CV] END ..................................C=0.1, gamma=0.01; total time=   0.0s\n",
            "[CV] END ..................................C=0.1, gamma=0.01; total time=   0.0s\n",
            "[CV] END ..................................C=0.1, gamma=0.01; total time=   0.0s\n",
            "[CV] END ..................................C=0.1, gamma=0.01; total time=   0.0s\n",
            "[CV] END ...................................C=0.1, gamma=0.1; total time=   0.0s\n",
            "[CV] END ...................................C=0.1, gamma=0.1; total time=   0.0s\n",
            "[CV] END ...................................C=0.1, gamma=0.1; total time=   0.0s\n",
            "[CV] END ...................................C=0.1, gamma=0.1; total time=   0.0s\n",
            "[CV] END ...................................C=0.1, gamma=0.1; total time=   0.0s\n",
            "[CV] END .....................................C=0.1, gamma=1; total time=   0.0s\n",
            "[CV] END .....................................C=0.1, gamma=1; total time=   0.0s\n",
            "[CV] END .....................................C=0.1, gamma=1; total time=   0.0s\n",
            "[CV] END .....................................C=0.1, gamma=1; total time=   0.0s\n",
            "[CV] END .....................................C=0.1, gamma=1; total time=   0.0s\n",
            "[CV] END ....................................C=0.1, gamma=10; total time=   0.0s\n",
            "[CV] END ....................................C=0.1, gamma=10; total time=   0.0s\n",
            "[CV] END ....................................C=0.1, gamma=10; total time=   0.0s\n",
            "[CV] END ....................................C=0.1, gamma=10; total time=   0.0s\n",
            "[CV] END ....................................C=0.1, gamma=10; total time=   0.0s\n",
            "[CV] END ....................................C=1, gamma=0.01; total time=   0.0s\n",
            "[CV] END ....................................C=1, gamma=0.01; total time=   0.0s\n",
            "[CV] END ....................................C=1, gamma=0.01; total time=   0.0s\n",
            "[CV] END ....................................C=1, gamma=0.01; total time=   0.0s\n",
            "[CV] END ....................................C=1, gamma=0.01; total time=   0.0s\n",
            "[CV] END .....................................C=1, gamma=0.1; total time=   0.0s\n",
            "[CV] END .....................................C=1, gamma=0.1; total time=   0.0s\n",
            "[CV] END .....................................C=1, gamma=0.1; total time=   0.0s\n",
            "[CV] END .....................................C=1, gamma=0.1; total time=   0.0s\n",
            "[CV] END .....................................C=1, gamma=0.1; total time=   0.0s\n",
            "[CV] END .......................................C=1, gamma=1; total time=   0.0s\n",
            "[CV] END .......................................C=1, gamma=1; total time=   0.0s\n",
            "[CV] END .......................................C=1, gamma=1; total time=   0.0s\n",
            "[CV] END .......................................C=1, gamma=1; total time=   0.0s\n",
            "[CV] END .......................................C=1, gamma=1; total time=   0.0s\n",
            "[CV] END ......................................C=1, gamma=10; total time=   0.0s\n",
            "[CV] END ......................................C=1, gamma=10; total time=   0.0s\n",
            "[CV] END ......................................C=1, gamma=10; total time=   0.0s\n",
            "[CV] END ......................................C=1, gamma=10; total time=   0.0s\n",
            "[CV] END ......................................C=1, gamma=10; total time=   0.0s\n",
            "[CV] END ...................................C=10, gamma=0.01; total time=   0.0s\n",
            "[CV] END ...................................C=10, gamma=0.01; total time=   0.0s\n",
            "[CV] END ...................................C=10, gamma=0.01; total time=   0.0s\n",
            "[CV] END ...................................C=10, gamma=0.01; total time=   0.0s\n",
            "[CV] END ...................................C=10, gamma=0.01; total time=   0.0s\n",
            "[CV] END ....................................C=10, gamma=0.1; total time=   0.0s\n",
            "[CV] END ....................................C=10, gamma=0.1; total time=   0.0s\n",
            "[CV] END ....................................C=10, gamma=0.1; total time=   0.0s\n",
            "[CV] END ....................................C=10, gamma=0.1; total time=   0.0s\n",
            "[CV] END ....................................C=10, gamma=0.1; total time=   0.0s\n",
            "[CV] END ......................................C=10, gamma=1; total time=   0.0s\n",
            "[CV] END ......................................C=10, gamma=1; total time=   0.0s\n",
            "[CV] END ......................................C=10, gamma=1; total time=   0.0s\n",
            "[CV] END ......................................C=10, gamma=1; total time=   0.0s\n",
            "[CV] END ......................................C=10, gamma=1; total time=   0.0s\n",
            "[CV] END .....................................C=10, gamma=10; total time=   0.0s\n",
            "[CV] END .....................................C=10, gamma=10; total time=   0.0s\n",
            "[CV] END .....................................C=10, gamma=10; total time=   0.0s\n",
            "[CV] END .....................................C=10, gamma=10; total time=   0.0s\n",
            "[CV] END .....................................C=10, gamma=10; total time=   0.0s\n",
            "[CV] END ..................................C=100, gamma=0.01; total time=   0.0s\n",
            "[CV] END ..................................C=100, gamma=0.01; total time=   0.0s\n",
            "[CV] END ..................................C=100, gamma=0.01; total time=   0.0s\n",
            "[CV] END ..................................C=100, gamma=0.01; total time=   0.0s\n",
            "[CV] END ..................................C=100, gamma=0.01; total time=   0.0s\n",
            "[CV] END ...................................C=100, gamma=0.1; total time=   0.0s\n",
            "[CV] END ...................................C=100, gamma=0.1; total time=   0.0s\n",
            "[CV] END ...................................C=100, gamma=0.1; total time=   0.0s\n",
            "[CV] END ...................................C=100, gamma=0.1; total time=   0.0s\n",
            "[CV] END ...................................C=100, gamma=0.1; total time=   0.0s\n",
            "[CV] END .....................................C=100, gamma=1; total time=   0.0s\n",
            "[CV] END .....................................C=100, gamma=1; total time=   0.0s\n",
            "[CV] END .....................................C=100, gamma=1; total time=   0.0s\n",
            "[CV] END .....................................C=100, gamma=1; total time=   0.0s\n",
            "[CV] END .....................................C=100, gamma=1; total time=   0.0s\n",
            "[CV] END ....................................C=100, gamma=10; total time=   0.0s\n",
            "[CV] END ....................................C=100, gamma=10; total time=   0.0s\n",
            "[CV] END ....................................C=100, gamma=10; total time=   0.0s\n",
            "[CV] END ....................................C=100, gamma=10; total time=   0.0s\n",
            "[CV] END ....................................C=100, gamma=10; total time=   0.0s\n",
            "Best Param: {'C': 0.1, 'gamma': 0.1}\n"
          ]
        }
      ]
    },
    {
      "cell_type": "code",
      "source": [
        "best_perdiction_svm=grid_search.predict(x_test)"
      ],
      "metadata": {
        "id": "pxL8ahVUbbGR"
      },
      "execution_count": 205,
      "outputs": []
    },
    {
      "cell_type": "code",
      "source": [
        "accuracy_score(y_test,best_perdiction_svm)"
      ],
      "metadata": {
        "colab": {
          "base_uri": "https://localhost:8080/"
        },
        "id": "TOAuaIIKbjBC",
        "outputId": "e50efbce-b5fd-4db9-c85f-0781ff523292"
      },
      "execution_count": 206,
      "outputs": [
        {
          "output_type": "execute_result",
          "data": {
            "text/plain": [
              "1.0"
            ]
          },
          "metadata": {},
          "execution_count": 206
        }
      ]
    },
    {
      "cell_type": "code",
      "source": [
        "cm=confusion_matrix(y_test,best_perdiction_svm)\n",
        "sns.heatmap(cm,annot=True)\n",
        "plt.show()"
      ],
      "metadata": {
        "colab": {
          "base_uri": "https://localhost:8080/",
          "height": 430
        },
        "id": "PL8vRkaSblZh",
        "outputId": "b2f82389-28d7-45db-cd81-29e6b3167dc4"
      },
      "execution_count": 207,
      "outputs": [
        {
          "output_type": "display_data",
          "data": {
            "text/plain": [
              "<Figure size 640x480 with 2 Axes>"
            ],
            "image/png": "[encoded data removed]"
          },
          "metadata": {}
        }
      ]
    },
    {
      "cell_type": "markdown",
      "source": [
        "# Regression model"
      ],
      "metadata": {
        "id": "m61BVweAbpeH"
      }
    },
    {
      "cell_type": "code",
      "source": [
        "# random generation to column\n",
        "import numpy as np\n",
        "np.random.seed(42)\n",
        "customer_behavior_df[\"user_spending\"] = (\n",
        "    50\n",
        "    + 10 * customer_behavior_df[\"feature_0\"]\n",
        "    - 5 * customer_behavior_df[\"feature_1\"]\n",
        "    + 7 * customer_behavior_df[\"feature_2\"]\n",
        "    + 3 * customer_behavior_df[\"feature_3\"]\n",
        "    - 8 * customer_behavior_df[\"feature_4\"]\n",
        "    + np.random.normal(0, 5, customer_behavior_df.shape[0])\n",
        ")\n"
      ],
      "metadata": {
        "id": "_o7Fbjx6boRX"
      },
      "execution_count": 208,
      "outputs": []
    },
    {
      "cell_type": "code",
      "source": [
        "y=customer_behavior_df[\"user_spending\"]\n",
        "x=customer_behavior_df.drop(columns=[\"user_spending\"])"
      ],
      "metadata": {
        "id": "TdxjBXwJdr39"
      },
      "execution_count": 218,
      "outputs": []
    },
    {
      "cell_type": "code",
      "source": [
        "from sklearn.preprocessing import MinMaxScaler\n",
        "min_max_scaler=MinMaxScaler()\n",
        "x=min_max_scaler.fit_transform(x)"
      ],
      "metadata": {
        "id": "EyfyRGSSebjd"
      },
      "execution_count": 210,
      "outputs": []
    },
    {
      "cell_type": "code",
      "source": [
        "x_train_regg,x_test_regg,y_train_regg,y_test_regg=train_test_split(\n",
        "    x,y,test_size=0.2,random_state=42,shuffle=True)"
      ],
      "metadata": {
        "id": "RVqRBXoWedeV"
      },
      "execution_count": 211,
      "outputs": []
    },
    {
      "cell_type": "code",
      "source": [
        "from sklearn.linear_model import LinearRegression\n",
        "model = LinearRegression()\n",
        "model.fit(x_train,y_train)\n",
        "y_predict=model.predict(x_test)"
      ],
      "metadata": {
        "id": "e727m22Nentr"
      },
      "execution_count": 212,
      "outputs": []
    },
    {
      "cell_type": "code",
      "source": [
        "from sklearn.metrics import mean_squared_error\n",
        "MSE=mean_squared_error(y_test,y_predict)"
      ],
      "metadata": {
        "id": "h24bp-YReqiX"
      },
      "execution_count": 213,
      "outputs": []
    },
    {
      "cell_type": "code",
      "source": [
        "from sklearn.metrics import r2_score\n",
        "r2 = r2_score(y_test, y_predict)\n",
        "r2"
      ],
      "metadata": {
        "colab": {
          "base_uri": "https://localhost:8080/"
        },
        "id": "5a0FQUKies8K",
        "outputId": "508090f2-caaa-4e4c-cbcd-30e300c8a5a8"
      },
      "execution_count": 214,
      "outputs": [
        {
          "output_type": "execute_result",
          "data": {
            "text/plain": [
              "0.12883065373297198"
            ]
          },
          "metadata": {},
          "execution_count": 214
        }
      ]
    },
    {
      "cell_type": "markdown",
      "source": [
        "# visualization"
      ],
      "metadata": {
        "id": "v9uQvtrQfI5S"
      }
    },
    {
      "cell_type": "code",
      "source": [
        "plt.figure(figsize=(8,6))\n",
        "sns.scatterplot(x=customer_behavior_df_pca[:,0],\n",
        "                y=customer_behavior_df_pca[:,1], hue=kmean_prdict, palette=\"viridis\")\n",
        "plt.xlabel(\"PC1\")\n",
        "plt.ylabel(\"PC2\")\n",
        "plt.title(\"Clusters Visualized in 2D (PCA)\")\n",
        "plt.legend(title=\"Cluster\")\n",
        "plt.show()"
      ],
      "metadata": {
        "colab": {
          "base_uri": "https://localhost:8080/",
          "height": 564
        },
        "id": "JaAZ2RawexlC",
        "outputId": "dee677ee-c1e7-448e-b643-9969ffdf570c"
      },
      "execution_count": 215,
      "outputs": [
        {
          "output_type": "display_data",
          "data": {
            "text/plain": [
              "<Figure size 800x600 with 1 Axes>"
            ],
            "image/png": "[encoded data removed]"
          },
          "metadata": {}
        }
      ]
    },
    {
      "cell_type": "code",
      "source": [],
      "metadata": {
        "id": "z8w-7924fL4O"
      },
      "execution_count": 215,
      "outputs": []
    }
  ]
}